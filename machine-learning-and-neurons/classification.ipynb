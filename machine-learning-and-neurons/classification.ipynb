{
 "cells": [
  {
   "cell_type": "code",
   "execution_count": 1,
   "id": "33331ab7-7f2e-420e-8840-4295f2f68ea8",
   "metadata": {},
   "outputs": [
    {
     "name": "stdout",
     "output_type": "stream",
     "text": [
      "WARNING:tensorflow:From C:\\Users\\ashut\\AppData\\Roaming\\Python\\Python310\\site-packages\\keras\\src\\losses.py:2976: The name tf.losses.sparse_softmax_cross_entropy is deprecated. Please use tf.compat.v1.losses.sparse_softmax_cross_entropy instead.\n",
      "\n"
     ]
    }
   ],
   "source": [
    "# import required packages\n",
    "import tensorflow as tf\n",
    "\n",
    "# dataset\n",
    "from sklearn.datasets import load_breast_cancer\n",
    "\n",
    "# utility\n",
    "import numpy as np\n",
    "import matplotlib.pyplot as plt\n",
    "from sklearn.model_selection import train_test_split\n",
    "from sklearn.preprocessing import StandardScaler"
   ]
  },
  {
   "cell_type": "markdown",
   "id": "db118293-0dfa-4d87-acb7-359b6354700f",
   "metadata": {},
   "source": [
    "## EDA and Preprocessing:"
   ]
  },
  {
   "cell_type": "code",
   "execution_count": 2,
   "id": "633877b7-c6fa-4202-82fd-f3db66d92cf0",
   "metadata": {},
   "outputs": [
    {
     "data": {
      "text/plain": [
       "{'data': array([[1.799e+01, 1.038e+01, 1.228e+02, ..., 2.654e-01, 4.601e-01,\n",
       "         1.189e-01],\n",
       "        [2.057e+01, 1.777e+01, 1.329e+02, ..., 1.860e-01, 2.750e-01,\n",
       "         8.902e-02],\n",
       "        [1.969e+01, 2.125e+01, 1.300e+02, ..., 2.430e-01, 3.613e-01,\n",
       "         8.758e-02],\n",
       "        ...,\n",
       "        [1.660e+01, 2.808e+01, 1.083e+02, ..., 1.418e-01, 2.218e-01,\n",
       "         7.820e-02],\n",
       "        [2.060e+01, 2.933e+01, 1.401e+02, ..., 2.650e-01, 4.087e-01,\n",
       "         1.240e-01],\n",
       "        [7.760e+00, 2.454e+01, 4.792e+01, ..., 0.000e+00, 2.871e-01,\n",
       "         7.039e-02]]),\n",
       " 'target': array([0, 0, 0, 0, 0, 0, 0, 0, 0, 0, 0, 0, 0, 0, 0, 0, 0, 0, 0, 1, 1, 1,\n",
       "        0, 0, 0, 0, 0, 0, 0, 0, 0, 0, 0, 0, 0, 0, 0, 1, 0, 0, 0, 0, 0, 0,\n",
       "        0, 0, 1, 0, 1, 1, 1, 1, 1, 0, 0, 1, 0, 0, 1, 1, 1, 1, 0, 1, 0, 0,\n",
       "        1, 1, 1, 1, 0, 1, 0, 0, 1, 0, 1, 0, 0, 1, 1, 1, 0, 0, 1, 0, 0, 0,\n",
       "        1, 1, 1, 0, 1, 1, 0, 0, 1, 1, 1, 0, 0, 1, 1, 1, 1, 0, 1, 1, 0, 1,\n",
       "        1, 1, 1, 1, 1, 1, 1, 0, 0, 0, 1, 0, 0, 1, 1, 1, 0, 0, 1, 0, 1, 0,\n",
       "        0, 1, 0, 0, 1, 1, 0, 1, 1, 0, 1, 1, 1, 1, 0, 1, 1, 1, 1, 1, 1, 1,\n",
       "        1, 1, 0, 1, 1, 1, 1, 0, 0, 1, 0, 1, 1, 0, 0, 1, 1, 0, 0, 1, 1, 1,\n",
       "        1, 0, 1, 1, 0, 0, 0, 1, 0, 1, 0, 1, 1, 1, 0, 1, 1, 0, 0, 1, 0, 0,\n",
       "        0, 0, 1, 0, 0, 0, 1, 0, 1, 0, 1, 1, 0, 1, 0, 0, 0, 0, 1, 1, 0, 0,\n",
       "        1, 1, 1, 0, 1, 1, 1, 1, 1, 0, 0, 1, 1, 0, 1, 1, 0, 0, 1, 0, 1, 1,\n",
       "        1, 1, 0, 1, 1, 1, 1, 1, 0, 1, 0, 0, 0, 0, 0, 0, 0, 0, 0, 0, 0, 0,\n",
       "        0, 0, 1, 1, 1, 1, 1, 1, 0, 1, 0, 1, 1, 0, 1, 1, 0, 1, 0, 0, 1, 1,\n",
       "        1, 1, 1, 1, 1, 1, 1, 1, 1, 1, 1, 0, 1, 1, 0, 1, 0, 1, 1, 1, 1, 1,\n",
       "        1, 1, 1, 1, 1, 1, 1, 1, 1, 0, 1, 1, 1, 0, 1, 0, 1, 1, 1, 1, 0, 0,\n",
       "        0, 1, 1, 1, 1, 0, 1, 0, 1, 0, 1, 1, 1, 0, 1, 1, 1, 1, 1, 1, 1, 0,\n",
       "        0, 0, 1, 1, 1, 1, 1, 1, 1, 1, 1, 1, 1, 0, 0, 1, 0, 0, 0, 1, 0, 0,\n",
       "        1, 1, 1, 1, 1, 0, 1, 1, 1, 1, 1, 0, 1, 1, 1, 0, 1, 1, 0, 0, 1, 1,\n",
       "        1, 1, 1, 1, 0, 1, 1, 1, 1, 1, 1, 1, 0, 1, 1, 1, 1, 1, 0, 1, 1, 0,\n",
       "        1, 1, 1, 1, 1, 1, 1, 1, 1, 1, 1, 1, 0, 1, 0, 0, 1, 0, 1, 1, 1, 1,\n",
       "        1, 0, 1, 1, 0, 1, 0, 1, 1, 0, 1, 0, 1, 1, 1, 1, 1, 1, 1, 1, 0, 0,\n",
       "        1, 1, 1, 1, 1, 1, 0, 1, 1, 1, 1, 1, 1, 1, 1, 1, 1, 0, 1, 1, 1, 1,\n",
       "        1, 1, 1, 0, 1, 0, 1, 1, 0, 1, 1, 1, 1, 1, 0, 0, 1, 0, 1, 0, 1, 1,\n",
       "        1, 1, 1, 0, 1, 1, 0, 1, 0, 1, 0, 0, 1, 1, 1, 0, 1, 1, 1, 1, 1, 1,\n",
       "        1, 1, 1, 1, 1, 0, 1, 0, 0, 1, 1, 1, 1, 1, 1, 1, 1, 1, 1, 1, 1, 1,\n",
       "        1, 1, 1, 1, 1, 1, 1, 1, 1, 1, 1, 1, 0, 0, 0, 0, 0, 0, 1]),\n",
       " 'frame': None,\n",
       " 'target_names': array(['malignant', 'benign'], dtype='<U9'),\n",
       " 'DESCR': '.. _breast_cancer_dataset:\\n\\nBreast cancer wisconsin (diagnostic) dataset\\n--------------------------------------------\\n\\n**Data Set Characteristics:**\\n\\n    :Number of Instances: 569\\n\\n    :Number of Attributes: 30 numeric, predictive attributes and the class\\n\\n    :Attribute Information:\\n        - radius (mean of distances from center to points on the perimeter)\\n        - texture (standard deviation of gray-scale values)\\n        - perimeter\\n        - area\\n        - smoothness (local variation in radius lengths)\\n        - compactness (perimeter^2 / area - 1.0)\\n        - concavity (severity of concave portions of the contour)\\n        - concave points (number of concave portions of the contour)\\n        - symmetry\\n        - fractal dimension (\"coastline approximation\" - 1)\\n\\n        The mean, standard error, and \"worst\" or largest (mean of the three\\n        worst/largest values) of these features were computed for each image,\\n        resulting in 30 features.  For instance, field 0 is Mean Radius, field\\n        10 is Radius SE, field 20 is Worst Radius.\\n\\n        - class:\\n                - WDBC-Malignant\\n                - WDBC-Benign\\n\\n    :Summary Statistics:\\n\\n    ===================================== ====== ======\\n                                           Min    Max\\n    ===================================== ====== ======\\n    radius (mean):                        6.981  28.11\\n    texture (mean):                       9.71   39.28\\n    perimeter (mean):                     43.79  188.5\\n    area (mean):                          143.5  2501.0\\n    smoothness (mean):                    0.053  0.163\\n    compactness (mean):                   0.019  0.345\\n    concavity (mean):                     0.0    0.427\\n    concave points (mean):                0.0    0.201\\n    symmetry (mean):                      0.106  0.304\\n    fractal dimension (mean):             0.05   0.097\\n    radius (standard error):              0.112  2.873\\n    texture (standard error):             0.36   4.885\\n    perimeter (standard error):           0.757  21.98\\n    area (standard error):                6.802  542.2\\n    smoothness (standard error):          0.002  0.031\\n    compactness (standard error):         0.002  0.135\\n    concavity (standard error):           0.0    0.396\\n    concave points (standard error):      0.0    0.053\\n    symmetry (standard error):            0.008  0.079\\n    fractal dimension (standard error):   0.001  0.03\\n    radius (worst):                       7.93   36.04\\n    texture (worst):                      12.02  49.54\\n    perimeter (worst):                    50.41  251.2\\n    area (worst):                         185.2  4254.0\\n    smoothness (worst):                   0.071  0.223\\n    compactness (worst):                  0.027  1.058\\n    concavity (worst):                    0.0    1.252\\n    concave points (worst):               0.0    0.291\\n    symmetry (worst):                     0.156  0.664\\n    fractal dimension (worst):            0.055  0.208\\n    ===================================== ====== ======\\n\\n    :Missing Attribute Values: None\\n\\n    :Class Distribution: 212 - Malignant, 357 - Benign\\n\\n    :Creator:  Dr. William H. Wolberg, W. Nick Street, Olvi L. Mangasarian\\n\\n    :Donor: Nick Street\\n\\n    :Date: November, 1995\\n\\nThis is a copy of UCI ML Breast Cancer Wisconsin (Diagnostic) datasets.\\nhttps://goo.gl/U2Uwz2\\n\\nFeatures are computed from a digitized image of a fine needle\\naspirate (FNA) of a breast mass.  They describe\\ncharacteristics of the cell nuclei present in the image.\\n\\nSeparating plane described above was obtained using\\nMultisurface Method-Tree (MSM-T) [K. P. Bennett, \"Decision Tree\\nConstruction Via Linear Programming.\" Proceedings of the 4th\\nMidwest Artificial Intelligence and Cognitive Science Society,\\npp. 97-101, 1992], a classification method which uses linear\\nprogramming to construct a decision tree.  Relevant features\\nwere selected using an exhaustive search in the space of 1-4\\nfeatures and 1-3 separating planes.\\n\\nThe actual linear program used to obtain the separating plane\\nin the 3-dimensional space is that described in:\\n[K. P. Bennett and O. L. Mangasarian: \"Robust Linear\\nProgramming Discrimination of Two Linearly Inseparable Sets\",\\nOptimization Methods and Software 1, 1992, 23-34].\\n\\nThis database is also available through the UW CS ftp server:\\n\\nftp ftp.cs.wisc.edu\\ncd math-prog/cpo-dataset/machine-learn/WDBC/\\n\\n|details-start|\\n**References**\\n|details-split|\\n\\n- W.N. Street, W.H. Wolberg and O.L. Mangasarian. Nuclear feature extraction \\n  for breast tumor diagnosis. IS&T/SPIE 1993 International Symposium on \\n  Electronic Imaging: Science and Technology, volume 1905, pages 861-870,\\n  San Jose, CA, 1993.\\n- O.L. Mangasarian, W.N. Street and W.H. Wolberg. Breast cancer diagnosis and \\n  prognosis via linear programming. Operations Research, 43(4), pages 570-577, \\n  July-August 1995.\\n- W.H. Wolberg, W.N. Street, and O.L. Mangasarian. Machine learning techniques\\n  to diagnose breast cancer from fine-needle aspirates. Cancer Letters 77 (1994) \\n  163-171.\\n\\n|details-end|',\n",
       " 'feature_names': array(['mean radius', 'mean texture', 'mean perimeter', 'mean area',\n",
       "        'mean smoothness', 'mean compactness', 'mean concavity',\n",
       "        'mean concave points', 'mean symmetry', 'mean fractal dimension',\n",
       "        'radius error', 'texture error', 'perimeter error', 'area error',\n",
       "        'smoothness error', 'compactness error', 'concavity error',\n",
       "        'concave points error', 'symmetry error',\n",
       "        'fractal dimension error', 'worst radius', 'worst texture',\n",
       "        'worst perimeter', 'worst area', 'worst smoothness',\n",
       "        'worst compactness', 'worst concavity', 'worst concave points',\n",
       "        'worst symmetry', 'worst fractal dimension'], dtype='<U23'),\n",
       " 'filename': 'breast_cancer.csv',\n",
       " 'data_module': 'sklearn.datasets.data'}"
      ]
     },
     "execution_count": 2,
     "metadata": {},
     "output_type": "execute_result"
    }
   ],
   "source": [
    "# load data\n",
    "data = load_breast_cancer()\n",
    "data"
   ]
  },
  {
   "cell_type": "code",
   "execution_count": 4,
   "id": "6ff103e1-0324-4779-8fc3-70e6db352051",
   "metadata": {},
   "outputs": [
    {
     "data": {
      "text/plain": [
       "sklearn.utils._bunch.Bunch"
      ]
     },
     "execution_count": 4,
     "metadata": {},
     "output_type": "execute_result"
    }
   ],
   "source": [
    "type(data)"
   ]
  },
  {
   "cell_type": "code",
   "execution_count": 5,
   "id": "03219850-b04f-412c-b41c-f28ec952b5ab",
   "metadata": {},
   "outputs": [
    {
     "data": {
      "text/plain": [
       "dict_keys(['data', 'target', 'frame', 'target_names', 'DESCR', 'feature_names', 'filename', 'data_module'])"
      ]
     },
     "execution_count": 5,
     "metadata": {},
     "output_type": "execute_result"
    }
   ],
   "source": [
    "data.keys()"
   ]
  },
  {
   "cell_type": "code",
   "execution_count": 6,
   "id": "271bfd9b-f217-4ce7-b2a8-623669549dd4",
   "metadata": {},
   "outputs": [
    {
     "data": {
      "text/plain": [
       "(569, 30)"
      ]
     },
     "execution_count": 6,
     "metadata": {},
     "output_type": "execute_result"
    }
   ],
   "source": [
    "data.data.shape"
   ]
  },
  {
   "cell_type": "code",
   "execution_count": 7,
   "id": "ae650710-f560-44c8-b593-ec2a9a687bc4",
   "metadata": {},
   "outputs": [
    {
     "data": {
      "text/plain": [
       "array(['malignant', 'benign'], dtype='<U9')"
      ]
     },
     "execution_count": 7,
     "metadata": {},
     "output_type": "execute_result"
    }
   ],
   "source": [
    "data.target_names"
   ]
  },
  {
   "cell_type": "code",
   "execution_count": 8,
   "id": "8519ff4c-6bce-41f0-a835-6c95679b5395",
   "metadata": {},
   "outputs": [
    {
     "data": {
      "text/plain": [
       "(569,)"
      ]
     },
     "execution_count": 8,
     "metadata": {},
     "output_type": "execute_result"
    }
   ],
   "source": [
    "data.target.shape"
   ]
  },
  {
   "cell_type": "code",
   "execution_count": 9,
   "id": "285b2770-d789-417f-b99a-4ade48009304",
   "metadata": {},
   "outputs": [
    {
     "data": {
      "text/plain": [
       "array(['mean radius', 'mean texture', 'mean perimeter', 'mean area',\n",
       "       'mean smoothness', 'mean compactness', 'mean concavity',\n",
       "       'mean concave points', 'mean symmetry', 'mean fractal dimension',\n",
       "       'radius error', 'texture error', 'perimeter error', 'area error',\n",
       "       'smoothness error', 'compactness error', 'concavity error',\n",
       "       'concave points error', 'symmetry error',\n",
       "       'fractal dimension error', 'worst radius', 'worst texture',\n",
       "       'worst perimeter', 'worst area', 'worst smoothness',\n",
       "       'worst compactness', 'worst concavity', 'worst concave points',\n",
       "       'worst symmetry', 'worst fractal dimension'], dtype='<U23')"
      ]
     },
     "execution_count": 9,
     "metadata": {},
     "output_type": "execute_result"
    }
   ],
   "source": [
    "data.feature_names"
   ]
  },
  {
   "cell_type": "code",
   "execution_count": 10,
   "id": "b5677602-9c9b-46dd-aa02-3266a3af1f58",
   "metadata": {},
   "outputs": [],
   "source": [
    "# split data: train-test\n",
    "X_train, X_test, y_train, y_test = train_test_split(data.data, data.target, test_size=0.33)"
   ]
  },
  {
   "cell_type": "code",
   "execution_count": 11,
   "id": "4f4c184c-8ba0-4cc6-8dc0-cd564ff525ba",
   "metadata": {},
   "outputs": [
    {
     "data": {
      "text/plain": [
       "(381, 30)"
      ]
     },
     "execution_count": 11,
     "metadata": {},
     "output_type": "execute_result"
    }
   ],
   "source": [
    "N, D = X_train.shape\n",
    "N, D"
   ]
  },
  {
   "cell_type": "code",
   "execution_count": 12,
   "id": "852f1834-2765-4398-aed2-ca014f023114",
   "metadata": {},
   "outputs": [],
   "source": [
    "# normalize the data set\n",
    "scaler = StandardScaler()\n",
    "\n",
    "X_train = scaler.fit_transform(X_train)\n",
    "X_test = scaler.transform(X_test)"
   ]
  },
  {
   "cell_type": "markdown",
   "id": "749d831a-f395-46ca-b740-357bf210900c",
   "metadata": {},
   "source": [
    "## Simple Logistic Regression Model:"
   ]
  },
  {
   "cell_type": "code",
   "execution_count": 13,
   "id": "aa9ff658-4824-46d2-9048-f5d60bed6574",
   "metadata": {},
   "outputs": [
    {
     "name": "stdout",
     "output_type": "stream",
     "text": [
      "WARNING:tensorflow:From C:\\Users\\ashut\\AppData\\Roaming\\Python\\Python310\\site-packages\\keras\\src\\backend.py:1398: The name tf.executing_eagerly_outside_functions is deprecated. Please use tf.compat.v1.executing_eagerly_outside_functions instead.\n",
      "\n"
     ]
    }
   ],
   "source": [
    "# define logistic regression model\n",
    "model = tf.keras.models.Sequential([\n",
    "    tf.keras.layers.Input(shape=(D,)),\n",
    "    tf.keras.layers.Dense(1, activation='sigmoid')\n",
    "])\n",
    "\n",
    "# alternative way\n",
    "# model = tf.keras.models.Sequential()\n",
    "# model.add(tf.keras.layers.Dense(1, input_shape=(D,), activation='signmoid))"
   ]
  },
  {
   "cell_type": "code",
   "execution_count": 14,
   "id": "aac97010-9f14-4daa-aebe-2f5a5b82b7b0",
   "metadata": {},
   "outputs": [
    {
     "name": "stdout",
     "output_type": "stream",
     "text": [
      "WARNING:tensorflow:From C:\\Users\\ashut\\AppData\\Roaming\\Python\\Python310\\site-packages\\keras\\src\\optimizers\\__init__.py:309: The name tf.train.Optimizer is deprecated. Please use tf.compat.v1.train.Optimizer instead.\n",
      "\n"
     ]
    }
   ],
   "source": [
    "# compile model\n",
    "model.compile(\n",
    "    optimizer='adam',\n",
    "    loss='binary_crossentropy',   \n",
    "    metrics=['accuracy'] \n",
    ")"
   ]
  },
  {
   "cell_type": "code",
   "execution_count": 15,
   "id": "25b7e21b-e7ad-4877-a641-0acf654e51b0",
   "metadata": {},
   "outputs": [
    {
     "name": "stdout",
     "output_type": "stream",
     "text": [
      "Epoch 1/100\n",
      "WARNING:tensorflow:From C:\\Users\\ashut\\AppData\\Roaming\\Python\\Python310\\site-packages\\keras\\src\\utils\\tf_utils.py:492: The name tf.ragged.RaggedTensorValue is deprecated. Please use tf.compat.v1.ragged.RaggedTensorValue instead.\n",
      "\n",
      "WARNING:tensorflow:From C:\\Users\\ashut\\AppData\\Roaming\\Python\\Python310\\site-packages\\keras\\src\\engine\\base_layer_utils.py:384: The name tf.executing_eagerly_outside_functions is deprecated. Please use tf.compat.v1.executing_eagerly_outside_functions instead.\n",
      "\n",
      "12/12 [==============================] - 1s 21ms/step - loss: 0.6947 - accuracy: 0.6562 - val_loss: 0.7116 - val_accuracy: 0.6649\n",
      "Epoch 2/100\n",
      "12/12 [==============================] - 0s 5ms/step - loss: 0.6387 - accuracy: 0.6955 - val_loss: 0.6539 - val_accuracy: 0.6968\n",
      "Epoch 3/100\n",
      "12/12 [==============================] - 0s 5ms/step - loss: 0.5868 - accuracy: 0.7270 - val_loss: 0.6037 - val_accuracy: 0.7181\n",
      "Epoch 4/100\n",
      "12/12 [==============================] - 0s 5ms/step - loss: 0.5439 - accuracy: 0.7690 - val_loss: 0.5600 - val_accuracy: 0.7394\n",
      "Epoch 5/100\n",
      "12/12 [==============================] - 0s 5ms/step - loss: 0.5051 - accuracy: 0.7979 - val_loss: 0.5218 - val_accuracy: 0.7660\n",
      "Epoch 6/100\n",
      "12/12 [==============================] - 0s 5ms/step - loss: 0.4727 - accuracy: 0.8136 - val_loss: 0.4877 - val_accuracy: 0.8032\n",
      "Epoch 7/100\n",
      "12/12 [==============================] - 0s 5ms/step - loss: 0.4434 - accuracy: 0.8346 - val_loss: 0.4583 - val_accuracy: 0.8138\n",
      "Epoch 8/100\n",
      "12/12 [==============================] - 0s 5ms/step - loss: 0.4181 - accuracy: 0.8478 - val_loss: 0.4317 - val_accuracy: 0.8245\n",
      "Epoch 9/100\n",
      "12/12 [==============================] - 0s 5ms/step - loss: 0.3956 - accuracy: 0.8556 - val_loss: 0.4081 - val_accuracy: 0.8457\n",
      "Epoch 10/100\n",
      "12/12 [==============================] - 0s 5ms/step - loss: 0.3753 - accuracy: 0.8766 - val_loss: 0.3876 - val_accuracy: 0.8511\n",
      "Epoch 11/100\n",
      "12/12 [==============================] - 0s 3ms/step - loss: 0.3576 - accuracy: 0.8766 - val_loss: 0.3685 - val_accuracy: 0.8670\n",
      "Epoch 12/100\n",
      "12/12 [==============================] - 0s 3ms/step - loss: 0.3411 - accuracy: 0.8924 - val_loss: 0.3520 - val_accuracy: 0.8777\n",
      "Epoch 13/100\n",
      "12/12 [==============================] - 0s 3ms/step - loss: 0.3266 - accuracy: 0.9055 - val_loss: 0.3365 - val_accuracy: 0.8830\n",
      "Epoch 14/100\n",
      "12/12 [==============================] - 0s 3ms/step - loss: 0.3129 - accuracy: 0.9055 - val_loss: 0.3233 - val_accuracy: 0.8883\n",
      "Epoch 15/100\n",
      "12/12 [==============================] - 0s 3ms/step - loss: 0.3009 - accuracy: 0.9081 - val_loss: 0.3111 - val_accuracy: 0.8989\n",
      "Epoch 16/100\n",
      "12/12 [==============================] - 0s 3ms/step - loss: 0.2899 - accuracy: 0.9108 - val_loss: 0.2993 - val_accuracy: 0.8989\n",
      "Epoch 17/100\n",
      "12/12 [==============================] - 0s 3ms/step - loss: 0.2797 - accuracy: 0.9186 - val_loss: 0.2885 - val_accuracy: 0.9043\n",
      "Epoch 18/100\n",
      "12/12 [==============================] - 0s 3ms/step - loss: 0.2700 - accuracy: 0.9186 - val_loss: 0.2790 - val_accuracy: 0.9096\n",
      "Epoch 19/100\n",
      "12/12 [==============================] - 0s 3ms/step - loss: 0.2617 - accuracy: 0.9186 - val_loss: 0.2695 - val_accuracy: 0.9096\n",
      "Epoch 20/100\n",
      "12/12 [==============================] - 0s 3ms/step - loss: 0.2532 - accuracy: 0.9213 - val_loss: 0.2613 - val_accuracy: 0.9149\n",
      "Epoch 21/100\n",
      "12/12 [==============================] - 0s 3ms/step - loss: 0.2455 - accuracy: 0.9239 - val_loss: 0.2536 - val_accuracy: 0.9149\n",
      "Epoch 22/100\n",
      "12/12 [==============================] - 0s 3ms/step - loss: 0.2388 - accuracy: 0.9265 - val_loss: 0.2461 - val_accuracy: 0.9202\n",
      "Epoch 23/100\n",
      "12/12 [==============================] - 0s 3ms/step - loss: 0.2316 - accuracy: 0.9291 - val_loss: 0.2396 - val_accuracy: 0.9255\n",
      "Epoch 24/100\n",
      "12/12 [==============================] - 0s 3ms/step - loss: 0.2255 - accuracy: 0.9318 - val_loss: 0.2333 - val_accuracy: 0.9309\n",
      "Epoch 25/100\n",
      "12/12 [==============================] - 0s 3ms/step - loss: 0.2194 - accuracy: 0.9318 - val_loss: 0.2279 - val_accuracy: 0.9309\n",
      "Epoch 26/100\n",
      "12/12 [==============================] - 0s 3ms/step - loss: 0.2143 - accuracy: 0.9344 - val_loss: 0.2220 - val_accuracy: 0.9362\n",
      "Epoch 27/100\n",
      "12/12 [==============================] - 0s 3ms/step - loss: 0.2086 - accuracy: 0.9370 - val_loss: 0.2168 - val_accuracy: 0.9468\n",
      "Epoch 28/100\n",
      "12/12 [==============================] - 0s 3ms/step - loss: 0.2037 - accuracy: 0.9344 - val_loss: 0.2119 - val_accuracy: 0.9415\n",
      "Epoch 29/100\n",
      "12/12 [==============================] - 0s 3ms/step - loss: 0.1988 - accuracy: 0.9370 - val_loss: 0.2074 - val_accuracy: 0.9415\n",
      "Epoch 30/100\n",
      "12/12 [==============================] - 0s 3ms/step - loss: 0.1943 - accuracy: 0.9423 - val_loss: 0.2033 - val_accuracy: 0.9415\n",
      "Epoch 31/100\n",
      "12/12 [==============================] - 0s 3ms/step - loss: 0.1900 - accuracy: 0.9423 - val_loss: 0.1991 - val_accuracy: 0.9415\n",
      "Epoch 32/100\n",
      "12/12 [==============================] - 0s 3ms/step - loss: 0.1858 - accuracy: 0.9423 - val_loss: 0.1953 - val_accuracy: 0.9415\n",
      "Epoch 33/100\n",
      "12/12 [==============================] - 0s 3ms/step - loss: 0.1819 - accuracy: 0.9423 - val_loss: 0.1916 - val_accuracy: 0.9468\n",
      "Epoch 34/100\n",
      "12/12 [==============================] - 0s 3ms/step - loss: 0.1781 - accuracy: 0.9475 - val_loss: 0.1884 - val_accuracy: 0.9468\n",
      "Epoch 35/100\n",
      "12/12 [==============================] - 0s 3ms/step - loss: 0.1747 - accuracy: 0.9475 - val_loss: 0.1848 - val_accuracy: 0.9468\n",
      "Epoch 36/100\n",
      "12/12 [==============================] - 0s 3ms/step - loss: 0.1711 - accuracy: 0.9475 - val_loss: 0.1817 - val_accuracy: 0.9521\n",
      "Epoch 37/100\n",
      "12/12 [==============================] - 0s 3ms/step - loss: 0.1677 - accuracy: 0.9475 - val_loss: 0.1787 - val_accuracy: 0.9521\n",
      "Epoch 38/100\n",
      "12/12 [==============================] - 0s 3ms/step - loss: 0.1647 - accuracy: 0.9475 - val_loss: 0.1759 - val_accuracy: 0.9521\n",
      "Epoch 39/100\n",
      "12/12 [==============================] - 0s 3ms/step - loss: 0.1617 - accuracy: 0.9475 - val_loss: 0.1732 - val_accuracy: 0.9521\n",
      "Epoch 40/100\n",
      "12/12 [==============================] - 0s 3ms/step - loss: 0.1587 - accuracy: 0.9475 - val_loss: 0.1706 - val_accuracy: 0.9521\n",
      "Epoch 41/100\n",
      "12/12 [==============================] - 0s 3ms/step - loss: 0.1558 - accuracy: 0.9475 - val_loss: 0.1682 - val_accuracy: 0.9521\n",
      "Epoch 42/100\n",
      "12/12 [==============================] - 0s 3ms/step - loss: 0.1531 - accuracy: 0.9475 - val_loss: 0.1658 - val_accuracy: 0.9628\n",
      "Epoch 43/100\n",
      "12/12 [==============================] - 0s 3ms/step - loss: 0.1506 - accuracy: 0.9475 - val_loss: 0.1637 - val_accuracy: 0.9628\n",
      "Epoch 44/100\n",
      "12/12 [==============================] - 0s 3ms/step - loss: 0.1480 - accuracy: 0.9475 - val_loss: 0.1617 - val_accuracy: 0.9628\n",
      "Epoch 45/100\n",
      "12/12 [==============================] - 0s 3ms/step - loss: 0.1459 - accuracy: 0.9475 - val_loss: 0.1594 - val_accuracy: 0.9628\n",
      "Epoch 46/100\n",
      "12/12 [==============================] - 0s 3ms/step - loss: 0.1433 - accuracy: 0.9501 - val_loss: 0.1574 - val_accuracy: 0.9628\n",
      "Epoch 47/100\n",
      "12/12 [==============================] - 0s 3ms/step - loss: 0.1411 - accuracy: 0.9501 - val_loss: 0.1556 - val_accuracy: 0.9628\n",
      "Epoch 48/100\n",
      "12/12 [==============================] - 0s 3ms/step - loss: 0.1389 - accuracy: 0.9501 - val_loss: 0.1541 - val_accuracy: 0.9628\n",
      "Epoch 49/100\n",
      "12/12 [==============================] - 0s 3ms/step - loss: 0.1370 - accuracy: 0.9475 - val_loss: 0.1521 - val_accuracy: 0.9628\n",
      "Epoch 50/100\n",
      "12/12 [==============================] - 0s 3ms/step - loss: 0.1348 - accuracy: 0.9528 - val_loss: 0.1507 - val_accuracy: 0.9628\n",
      "Epoch 51/100\n",
      "12/12 [==============================] - 0s 3ms/step - loss: 0.1329 - accuracy: 0.9554 - val_loss: 0.1492 - val_accuracy: 0.9628\n",
      "Epoch 52/100\n",
      "12/12 [==============================] - 0s 3ms/step - loss: 0.1312 - accuracy: 0.9554 - val_loss: 0.1476 - val_accuracy: 0.9628\n",
      "Epoch 53/100\n",
      "12/12 [==============================] - 0s 3ms/step - loss: 0.1293 - accuracy: 0.9580 - val_loss: 0.1461 - val_accuracy: 0.9628\n",
      "Epoch 54/100\n",
      "12/12 [==============================] - 0s 3ms/step - loss: 0.1276 - accuracy: 0.9580 - val_loss: 0.1448 - val_accuracy: 0.9628\n",
      "Epoch 55/100\n",
      "12/12 [==============================] - 0s 3ms/step - loss: 0.1260 - accuracy: 0.9606 - val_loss: 0.1435 - val_accuracy: 0.9628\n",
      "Epoch 56/100\n",
      "12/12 [==============================] - 0s 3ms/step - loss: 0.1243 - accuracy: 0.9606 - val_loss: 0.1424 - val_accuracy: 0.9628\n",
      "Epoch 57/100\n",
      "12/12 [==============================] - 0s 3ms/step - loss: 0.1229 - accuracy: 0.9606 - val_loss: 0.1409 - val_accuracy: 0.9628\n",
      "Epoch 58/100\n",
      "12/12 [==============================] - 0s 3ms/step - loss: 0.1213 - accuracy: 0.9633 - val_loss: 0.1398 - val_accuracy: 0.9628\n",
      "Epoch 59/100\n",
      "12/12 [==============================] - 0s 3ms/step - loss: 0.1199 - accuracy: 0.9633 - val_loss: 0.1387 - val_accuracy: 0.9628\n",
      "Epoch 60/100\n",
      "12/12 [==============================] - 0s 3ms/step - loss: 0.1184 - accuracy: 0.9633 - val_loss: 0.1377 - val_accuracy: 0.9628\n",
      "Epoch 61/100\n",
      "12/12 [==============================] - 0s 3ms/step - loss: 0.1171 - accuracy: 0.9659 - val_loss: 0.1366 - val_accuracy: 0.9628\n",
      "Epoch 62/100\n",
      "12/12 [==============================] - 0s 3ms/step - loss: 0.1158 - accuracy: 0.9659 - val_loss: 0.1358 - val_accuracy: 0.9628\n",
      "Epoch 63/100\n",
      "12/12 [==============================] - 0s 3ms/step - loss: 0.1146 - accuracy: 0.9659 - val_loss: 0.1347 - val_accuracy: 0.9628\n",
      "Epoch 64/100\n",
      "12/12 [==============================] - 0s 3ms/step - loss: 0.1133 - accuracy: 0.9659 - val_loss: 0.1339 - val_accuracy: 0.9628\n",
      "Epoch 65/100\n",
      "12/12 [==============================] - 0s 3ms/step - loss: 0.1121 - accuracy: 0.9659 - val_loss: 0.1330 - val_accuracy: 0.9628\n",
      "Epoch 66/100\n",
      "12/12 [==============================] - 0s 3ms/step - loss: 0.1109 - accuracy: 0.9659 - val_loss: 0.1322 - val_accuracy: 0.9628\n",
      "Epoch 67/100\n",
      "12/12 [==============================] - 0s 4ms/step - loss: 0.1099 - accuracy: 0.9685 - val_loss: 0.1312 - val_accuracy: 0.9628\n",
      "Epoch 68/100\n",
      "12/12 [==============================] - 0s 3ms/step - loss: 0.1088 - accuracy: 0.9685 - val_loss: 0.1306 - val_accuracy: 0.9628\n",
      "Epoch 69/100\n",
      "12/12 [==============================] - 0s 3ms/step - loss: 0.1077 - accuracy: 0.9711 - val_loss: 0.1299 - val_accuracy: 0.9628\n",
      "Epoch 70/100\n",
      "12/12 [==============================] - 0s 3ms/step - loss: 0.1067 - accuracy: 0.9711 - val_loss: 0.1290 - val_accuracy: 0.9628\n",
      "Epoch 71/100\n",
      "12/12 [==============================] - 0s 3ms/step - loss: 0.1057 - accuracy: 0.9711 - val_loss: 0.1283 - val_accuracy: 0.9628\n",
      "Epoch 72/100\n",
      "12/12 [==============================] - 0s 3ms/step - loss: 0.1047 - accuracy: 0.9711 - val_loss: 0.1276 - val_accuracy: 0.9628\n",
      "Epoch 73/100\n",
      "12/12 [==============================] - 0s 3ms/step - loss: 0.1037 - accuracy: 0.9711 - val_loss: 0.1269 - val_accuracy: 0.9628\n",
      "Epoch 74/100\n",
      "12/12 [==============================] - 0s 3ms/step - loss: 0.1028 - accuracy: 0.9711 - val_loss: 0.1263 - val_accuracy: 0.9628\n",
      "Epoch 75/100\n",
      "12/12 [==============================] - 0s 3ms/step - loss: 0.1019 - accuracy: 0.9711 - val_loss: 0.1257 - val_accuracy: 0.9628\n",
      "Epoch 76/100\n",
      "12/12 [==============================] - 0s 3ms/step - loss: 0.1010 - accuracy: 0.9711 - val_loss: 0.1253 - val_accuracy: 0.9628\n",
      "Epoch 77/100\n",
      "12/12 [==============================] - 0s 3ms/step - loss: 0.1001 - accuracy: 0.9711 - val_loss: 0.1246 - val_accuracy: 0.9628\n",
      "Epoch 78/100\n",
      "12/12 [==============================] - 0s 3ms/step - loss: 0.0993 - accuracy: 0.9711 - val_loss: 0.1240 - val_accuracy: 0.9628\n",
      "Epoch 79/100\n",
      "12/12 [==============================] - 0s 3ms/step - loss: 0.0985 - accuracy: 0.9711 - val_loss: 0.1233 - val_accuracy: 0.9628\n",
      "Epoch 80/100\n",
      "12/12 [==============================] - 0s 3ms/step - loss: 0.0977 - accuracy: 0.9711 - val_loss: 0.1228 - val_accuracy: 0.9628\n",
      "Epoch 81/100\n",
      "12/12 [==============================] - 0s 3ms/step - loss: 0.0969 - accuracy: 0.9711 - val_loss: 0.1223 - val_accuracy: 0.9628\n",
      "Epoch 82/100\n",
      "12/12 [==============================] - 0s 3ms/step - loss: 0.0961 - accuracy: 0.9711 - val_loss: 0.1218 - val_accuracy: 0.9628\n",
      "Epoch 83/100\n",
      "12/12 [==============================] - 0s 3ms/step - loss: 0.0954 - accuracy: 0.9711 - val_loss: 0.1214 - val_accuracy: 0.9628\n",
      "Epoch 84/100\n",
      "12/12 [==============================] - 0s 3ms/step - loss: 0.0946 - accuracy: 0.9711 - val_loss: 0.1209 - val_accuracy: 0.9628\n",
      "Epoch 85/100\n",
      "12/12 [==============================] - 0s 3ms/step - loss: 0.0939 - accuracy: 0.9711 - val_loss: 0.1205 - val_accuracy: 0.9628\n",
      "Epoch 86/100\n",
      "12/12 [==============================] - 0s 3ms/step - loss: 0.0932 - accuracy: 0.9711 - val_loss: 0.1200 - val_accuracy: 0.9628\n",
      "Epoch 87/100\n",
      "12/12 [==============================] - 0s 3ms/step - loss: 0.0925 - accuracy: 0.9711 - val_loss: 0.1195 - val_accuracy: 0.9628\n",
      "Epoch 88/100\n",
      "12/12 [==============================] - 0s 3ms/step - loss: 0.0918 - accuracy: 0.9711 - val_loss: 0.1191 - val_accuracy: 0.9628\n",
      "Epoch 89/100\n",
      "12/12 [==============================] - 0s 3ms/step - loss: 0.0912 - accuracy: 0.9711 - val_loss: 0.1187 - val_accuracy: 0.9681\n",
      "Epoch 90/100\n",
      "12/12 [==============================] - 0s 3ms/step - loss: 0.0905 - accuracy: 0.9738 - val_loss: 0.1183 - val_accuracy: 0.9681\n",
      "Epoch 91/100\n",
      "12/12 [==============================] - 0s 3ms/step - loss: 0.0899 - accuracy: 0.9738 - val_loss: 0.1178 - val_accuracy: 0.9681\n",
      "Epoch 92/100\n",
      "12/12 [==============================] - 0s 3ms/step - loss: 0.0893 - accuracy: 0.9738 - val_loss: 0.1175 - val_accuracy: 0.9681\n",
      "Epoch 93/100\n",
      "12/12 [==============================] - 0s 3ms/step - loss: 0.0887 - accuracy: 0.9738 - val_loss: 0.1172 - val_accuracy: 0.9681\n",
      "Epoch 94/100\n",
      "12/12 [==============================] - 0s 3ms/step - loss: 0.0880 - accuracy: 0.9738 - val_loss: 0.1168 - val_accuracy: 0.9681\n",
      "Epoch 95/100\n",
      "12/12 [==============================] - 0s 3ms/step - loss: 0.0875 - accuracy: 0.9738 - val_loss: 0.1164 - val_accuracy: 0.9681\n",
      "Epoch 96/100\n",
      "12/12 [==============================] - 0s 3ms/step - loss: 0.0869 - accuracy: 0.9738 - val_loss: 0.1160 - val_accuracy: 0.9681\n",
      "Epoch 97/100\n",
      "12/12 [==============================] - 0s 3ms/step - loss: 0.0863 - accuracy: 0.9738 - val_loss: 0.1157 - val_accuracy: 0.9681\n",
      "Epoch 98/100\n",
      "12/12 [==============================] - 0s 3ms/step - loss: 0.0857 - accuracy: 0.9738 - val_loss: 0.1154 - val_accuracy: 0.9681\n",
      "Epoch 99/100\n",
      "12/12 [==============================] - 0s 3ms/step - loss: 0.0852 - accuracy: 0.9738 - val_loss: 0.1151 - val_accuracy: 0.9681\n",
      "Epoch 100/100\n",
      "12/12 [==============================] - 0s 3ms/step - loss: 0.0847 - accuracy: 0.9738 - val_loss: 0.1148 - val_accuracy: 0.9681\n"
     ]
    }
   ],
   "source": [
    "# train the model\n",
    "r = model.fit(X_train, y_train, validation_data=(X_test, y_test), epochs=100)"
   ]
  },
  {
   "cell_type": "code",
   "execution_count": 16,
   "id": "7474d28e-fe27-4182-8550-fc293f1f22eb",
   "metadata": {},
   "outputs": [
    {
     "name": "stdout",
     "output_type": "stream",
     "text": [
      "12/12 [==============================] - 0s 1ms/step - loss: 0.0843 - accuracy: 0.9738\n"
     ]
    },
    {
     "data": {
      "text/plain": [
       "[0.08427717536687851, 0.9737532734870911]"
      ]
     },
     "execution_count": 16,
     "metadata": {},
     "output_type": "execute_result"
    }
   ],
   "source": [
    "# final train score\n",
    "model.evaluate(X_train, y_train)"
   ]
  },
  {
   "cell_type": "code",
   "execution_count": 17,
   "id": "40f95513-f2c6-4837-9f19-b1737df16371",
   "metadata": {},
   "outputs": [
    {
     "name": "stdout",
     "output_type": "stream",
     "text": [
      "6/6 [==============================] - 0s 2ms/step - loss: 0.1148 - accuracy: 0.9681\n"
     ]
    },
    {
     "data": {
      "text/plain": [
       "[0.11475823074579239, 0.9680851101875305]"
      ]
     },
     "execution_count": 17,
     "metadata": {},
     "output_type": "execute_result"
    }
   ],
   "source": [
    "# final test score\n",
    "model.evaluate(X_test, y_test)"
   ]
  },
  {
   "cell_type": "code",
   "execution_count": 18,
   "id": "4a74d6c2-741e-4d7a-8669-21eb57924fee",
   "metadata": {},
   "outputs": [
    {
     "data": {
      "image/png": "[encoded data removed]",
      "text/plain": [
       "<Figure size 640x480 with 1 Axes>"
      ]
     },
     "metadata": {},
     "output_type": "display_data"
    }
   ],
   "source": [
    "# plot the loss\n",
    "plt.plot(r.history['loss'], label='loss')\n",
    "plt.plot(r.history['val_loss'], label='val_loss')\n",
    "\n",
    "plt.legend();"
   ]
  },
  {
   "cell_type": "code",
   "execution_count": 19,
   "id": "1253e043-5732-440f-8f0e-cd4344c80b32",
   "metadata": {},
   "outputs": [
    {
     "data": {
      "image/png": "[encoded data removed]",
      "text/plain": [
       "<Figure size 640x480 with 1 Axes>"
      ]
     },
     "metadata": {},
     "output_type": "display_data"
    }
   ],
   "source": [
    "# plot the accuracy\n",
    "plt.plot(r.history['accuracy'], label='acc')\n",
    "plt.plot(r.history['val_accuracy'], label='val_acc')\n",
    "\n",
    "plt.legend();"
   ]
  },
  {
   "cell_type": "markdown",
   "id": "2d91ed87-7206-4c40-ad7a-6d94618f27be",
   "metadata": {},
   "source": [
    "## Making Predictions:"
   ]
  },
  {
   "cell_type": "code",
   "execution_count": 20,
   "id": "8f18b53c-75d6-47f0-b46f-3f51ad1eb461",
   "metadata": {},
   "outputs": [
    {
     "name": "stdout",
     "output_type": "stream",
     "text": [
      "6/6 [==============================] - 0s 1ms/step\n"
     ]
    },
    {
     "data": {
      "text/plain": [
       "array([[6.59684122e-01],\n",
       "       [2.55174260e-03],\n",
       "       [9.93234873e-01],\n",
       "       [9.80737507e-01],\n",
       "       [7.79192865e-01],\n",
       "       [3.61823513e-05],\n",
       "       [9.99307752e-01],\n",
       "       [9.99399722e-01],\n",
       "       [9.97945368e-01],\n",
       "       [9.96287763e-01],\n",
       "       [9.52246189e-01],\n",
       "       [2.94794708e-01],\n",
       "       [2.32917475e-04],\n",
       "       [9.92395997e-01],\n",
       "       [1.74373315e-06],\n",
       "       [1.14981830e-02],\n",
       "       [9.98500288e-01],\n",
       "       [4.21675977e-05],\n",
       "       [2.73293883e-01],\n",
       "       [4.27246056e-02],\n",
       "       [9.77476835e-01],\n",
       "       [4.46972474e-02],\n",
       "       [9.44993556e-01],\n",
       "       [9.94391620e-01],\n",
       "       [9.35169041e-01],\n",
       "       [9.99593079e-01],\n",
       "       [9.98442352e-01],\n",
       "       [9.94406581e-01],\n",
       "       [7.38897268e-03],\n",
       "       [9.68171537e-01],\n",
       "       [9.54982996e-01],\n",
       "       [9.87463236e-01],\n",
       "       [9.99534488e-01],\n",
       "       [9.98364627e-01],\n",
       "       [9.80506539e-01],\n",
       "       [1.92078474e-07],\n",
       "       [7.78007973e-03],\n",
       "       [7.83919767e-02],\n",
       "       [9.84993637e-01],\n",
       "       [3.13065154e-03],\n",
       "       [9.73896742e-01],\n",
       "       [9.97089982e-01],\n",
       "       [1.10110424e-01],\n",
       "       [9.83727336e-01],\n",
       "       [9.59564209e-01],\n",
       "       [8.99385571e-01],\n",
       "       [9.95007455e-01],\n",
       "       [3.55189986e-04],\n",
       "       [9.89700615e-01],\n",
       "       [8.03544182e-08],\n",
       "       [4.52455617e-02],\n",
       "       [8.05236632e-05],\n",
       "       [3.80546957e-01],\n",
       "       [7.70830736e-02],\n",
       "       [9.27022040e-01],\n",
       "       [1.06652267e-03],\n",
       "       [9.99540031e-01],\n",
       "       [9.40097630e-01],\n",
       "       [9.54590976e-01],\n",
       "       [9.63289678e-01],\n",
       "       [6.06885731e-01],\n",
       "       [9.87622261e-01],\n",
       "       [9.87960815e-01],\n",
       "       [9.16520417e-01],\n",
       "       [9.95517433e-01],\n",
       "       [5.13814926e-01],\n",
       "       [9.93092358e-01],\n",
       "       [1.93774849e-01],\n",
       "       [9.97186482e-01],\n",
       "       [1.36178074e-04],\n",
       "       [9.93878305e-01],\n",
       "       [9.97788489e-01],\n",
       "       [3.71429516e-04],\n",
       "       [9.84380782e-01],\n",
       "       [9.98323619e-01],\n",
       "       [1.06516726e-01],\n",
       "       [9.99085963e-01],\n",
       "       [1.06019586e-01],\n",
       "       [4.59943840e-04],\n",
       "       [1.81387656e-03],\n",
       "       [9.85748768e-01],\n",
       "       [8.73010397e-01],\n",
       "       [8.05286527e-01],\n",
       "       [7.14519024e-02],\n",
       "       [5.57203829e-01],\n",
       "       [2.45280564e-02],\n",
       "       [8.10298681e-01],\n",
       "       [9.98576224e-01],\n",
       "       [9.64300036e-01],\n",
       "       [5.45685768e-01],\n",
       "       [9.79918897e-01],\n",
       "       [9.01088953e-01],\n",
       "       [1.51687811e-04],\n",
       "       [8.25114310e-01],\n",
       "       [1.83168414e-08],\n",
       "       [9.77715433e-01],\n",
       "       [9.80697513e-01],\n",
       "       [1.85583346e-03],\n",
       "       [9.98507917e-01],\n",
       "       [9.54750657e-01],\n",
       "       [9.37636495e-01],\n",
       "       [5.91865420e-01],\n",
       "       [9.92730439e-01],\n",
       "       [9.73676324e-01],\n",
       "       [2.21222246e-04],\n",
       "       [9.85568464e-01],\n",
       "       [9.46719050e-01],\n",
       "       [2.04983028e-03],\n",
       "       [6.45398581e-03],\n",
       "       [8.54425609e-01],\n",
       "       [9.92399216e-01],\n",
       "       [9.99793708e-01],\n",
       "       [1.36484340e-01],\n",
       "       [6.02120757e-01],\n",
       "       [9.81702149e-01],\n",
       "       [2.43118089e-02],\n",
       "       [9.97862995e-01],\n",
       "       [9.83259916e-01],\n",
       "       [9.84833837e-01],\n",
       "       [9.37834859e-01],\n",
       "       [8.90311122e-01],\n",
       "       [1.75500028e-02],\n",
       "       [9.80975866e-01],\n",
       "       [7.51624227e-01],\n",
       "       [2.56244862e-03],\n",
       "       [3.28170172e-05],\n",
       "       [8.31136107e-01],\n",
       "       [9.87090111e-01],\n",
       "       [9.92893159e-01],\n",
       "       [5.54113328e-01],\n",
       "       [9.53997076e-01],\n",
       "       [9.70047836e-07],\n",
       "       [4.57996939e-04],\n",
       "       [9.47855055e-01],\n",
       "       [9.82025027e-01],\n",
       "       [9.98613358e-01],\n",
       "       [9.90219295e-01],\n",
       "       [9.88168955e-01],\n",
       "       [9.83161211e-01],\n",
       "       [9.90086317e-01],\n",
       "       [4.98938753e-05],\n",
       "       [9.95468199e-01],\n",
       "       [9.92385983e-01],\n",
       "       [9.95092571e-01],\n",
       "       [2.78444804e-06],\n",
       "       [3.99115920e-01],\n",
       "       [2.89907623e-02],\n",
       "       [9.70413208e-01],\n",
       "       [9.99442399e-01],\n",
       "       [3.22541595e-03],\n",
       "       [9.88192856e-01],\n",
       "       [1.99535251e-07],\n",
       "       [3.59909063e-05],\n",
       "       [3.08475667e-03],\n",
       "       [2.78368220e-03],\n",
       "       [9.93400156e-01],\n",
       "       [9.37870324e-01],\n",
       "       [9.96249974e-01],\n",
       "       [8.23018956e-04],\n",
       "       [9.61214662e-01],\n",
       "       [9.65147376e-01],\n",
       "       [4.47672270e-02],\n",
       "       [8.39246690e-01],\n",
       "       [8.84960234e-01],\n",
       "       [2.58630957e-03],\n",
       "       [5.11854112e-01],\n",
       "       [7.28333890e-01],\n",
       "       [9.94322240e-01],\n",
       "       [9.96881068e-01],\n",
       "       [9.95854497e-01],\n",
       "       [3.45782861e-02],\n",
       "       [6.32565410e-04],\n",
       "       [9.99880373e-01],\n",
       "       [9.92925107e-01],\n",
       "       [2.91013382e-02],\n",
       "       [9.74867344e-01],\n",
       "       [8.97748351e-01],\n",
       "       [2.86279992e-05],\n",
       "       [9.32198483e-04],\n",
       "       [9.73049581e-01],\n",
       "       [9.99203417e-03],\n",
       "       [8.29674780e-01],\n",
       "       [3.68920923e-03],\n",
       "       [1.02330006e-04],\n",
       "       [9.79975224e-01],\n",
       "       [9.98504639e-01],\n",
       "       [9.88374412e-01],\n",
       "       [8.02194536e-01]], dtype=float32)"
      ]
     },
     "execution_count": 20,
     "metadata": {},
     "output_type": "execute_result"
    }
   ],
   "source": [
    "# make predictions\n",
    "p = model.predict(X_test)\n",
    "p"
   ]
  },
  {
   "cell_type": "code",
   "execution_count": 21,
   "id": "dc6624e0-7c79-4088-aa06-e285b8ff3e92",
   "metadata": {},
   "outputs": [
    {
     "data": {
      "text/plain": [
       "array([1., 0., 1., 1., 1., 0., 1., 1., 1., 1., 1., 0., 0., 1., 0., 0., 1.,\n",
       "       0., 0., 0., 1., 0., 1., 1., 1., 1., 1., 1., 0., 1., 1., 1., 1., 1.,\n",
       "       1., 0., 0., 0., 1., 0., 1., 1., 0., 1., 1., 1., 1., 0., 1., 0., 0.,\n",
       "       0., 0., 0., 1., 0., 1., 1., 1., 1., 1., 1., 1., 1., 1., 1., 1., 0.,\n",
       "       1., 0., 1., 1., 0., 1., 1., 0., 1., 0., 0., 0., 1., 1., 1., 0., 1.,\n",
       "       0., 1., 1., 1., 1., 1., 1., 0., 1., 0., 1., 1., 0., 1., 1., 1., 1.,\n",
       "       1., 1., 0., 1., 1., 0., 0., 1., 1., 1., 0., 1., 1., 0., 1., 1., 1.,\n",
       "       1., 1., 0., 1., 1., 0., 0., 1., 1., 1., 1., 1., 0., 0., 1., 1., 1.,\n",
       "       1., 1., 1., 1., 0., 1., 1., 1., 0., 0., 0., 1., 1., 0., 1., 0., 0.,\n",
       "       0., 0., 1., 1., 1., 0., 1., 1., 0., 1., 1., 0., 1., 1., 1., 1., 1.,\n",
       "       0., 0., 1., 1., 0., 1., 1., 0., 0., 1., 0., 1., 0., 0., 1., 1., 1.,\n",
       "       1.], dtype=float32)"
      ]
     },
     "execution_count": 21,
     "metadata": {},
     "output_type": "execute_result"
    }
   ],
   "source": [
    "# round to get the actual predictions\n",
    "# Note: has to be flattened since the targets are size(N,) while the predictions are size (N,1)\n",
    "p = np.round(p).flatten()\n",
    "p"
   ]
  },
  {
   "cell_type": "code",
   "execution_count": 22,
   "id": "15ee6a83-6a8c-4be5-8033-c388865cd983",
   "metadata": {},
   "outputs": [
    {
     "name": "stdout",
     "output_type": "stream",
     "text": [
      "Manually calculated accuracy: 0.9680851063829787\n",
      "6/6 [==============================] - 0s 900us/step - loss: 0.1148 - accuracy: 0.9681\n",
      "Evaluate() output: [0.11475823074579239, 0.9680851101875305]\n"
     ]
    }
   ],
   "source": [
    "# calculate the accuracy, compare it to evaluate() output\n",
    "print(f'Manually calculated accuracy: {np.mean(p == y_test)}')\n",
    "print(f'Evaluate() output: {model.evaluate(X_test, y_test)}')"
   ]
  },
  {
   "cell_type": "markdown",
   "id": "92ac4e84-9a2b-4365-bfec-681050ebb1b0",
   "metadata": {},
   "source": [
    "## Saving and Loading the Model:"
   ]
  },
  {
   "cell_type": "code",
   "execution_count": 24,
   "id": "fd7b179c-65bc-42b4-8e0a-398f052e204f",
   "metadata": {},
   "outputs": [],
   "source": [
    "# save the model to a file\n",
    "model.save('classifier.keras')"
   ]
  },
  {
   "cell_type": "code",
   "execution_count": 25,
   "id": "c29123d3-5c82-4d80-aaa1-08da58956ddd",
   "metadata": {},
   "outputs": [
    {
     "name": "stdout",
     "output_type": "stream",
     "text": [
      "[<keras.src.layers.core.dense.Dense object at 0x0000014BC0B692A0>]\n"
     ]
    }
   ],
   "source": [
    "# load the model and confirm that it still works\n",
    "model = tf.keras.models.load_model('classifier.keras')\n",
    "print(model.layers)"
   ]
  },
  {
   "cell_type": "code",
   "execution_count": 26,
   "id": "bf90b743-efb5-4b7b-bd56-0603df382109",
   "metadata": {},
   "outputs": [
    {
     "name": "stdout",
     "output_type": "stream",
     "text": [
      "6/6 [==============================] - 0s 1ms/step - loss: 0.1148 - accuracy: 0.9681\n"
     ]
    },
    {
     "data": {
      "text/plain": [
       "[0.11475823074579239, 0.9680851101875305]"
      ]
     },
     "execution_count": 26,
     "metadata": {},
     "output_type": "execute_result"
    }
   ],
   "source": [
    "# verify the performance of the model\n",
    "model.evaluate(X_test, y_test)"
   ]
  }
 ],
 "metadata": {
  "kernelspec": {
   "display_name": "Python 3 (ipykernel)",
   "language": "python",
   "name": "python3"
  },
  "language_info": {
   "codemirror_mode": {
    "name": "ipython",
    "version": 3
   },
   "file_extension": ".py",
   "mimetype": "text/x-python",
   "name": "python",
   "nbconvert_exporter": "python",
   "pygments_lexer": "ipython3",
   "version": "3.10.0"
  }
 },
 "nbformat": 4,
 "nbformat_minor": 5
}
