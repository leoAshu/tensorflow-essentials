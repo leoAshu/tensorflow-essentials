{
 "cells": [
  {
   "cell_type": "code",
   "execution_count": 1,
   "id": "33331ab7-7f2e-420e-8840-4295f2f68ea8",
   "metadata": {},
   "outputs": [
    {
     "name": "stdout",
     "output_type": "stream",
     "text": [
      "WARNING:tensorflow:From C:\\Users\\ashut\\AppData\\Roaming\\Python\\Python310\\site-packages\\keras\\src\\losses.py:2976: The name tf.losses.sparse_softmax_cross_entropy is deprecated. Please use tf.compat.v1.losses.sparse_softmax_cross_entropy instead.\n",
      "\n"
     ]
    }
   ],
   "source": [
    "# import required packages\n",
    "import tensorflow as tf\n",
    "\n",
    "# dataset\n",
    "from sklearn.datasets import load_breast_cancer\n",
    "\n",
    "# utility\n",
    "import numpy as np\n",
    "import matplotlib.pyplot as plt\n",
    "from sklearn.model_selection import train_test_split\n",
    "from sklearn.preprocessing import StandardScaler"
   ]
  },
  {
   "cell_type": "markdown",
   "id": "db118293-0dfa-4d87-acb7-359b6354700f",
   "metadata": {},
   "source": [
    "## EDA and Preprocessing:"
   ]
  },
  {
   "cell_type": "code",
   "execution_count": 2,
   "id": "633877b7-c6fa-4202-82fd-f3db66d92cf0",
   "metadata": {},
   "outputs": [
    {
     "data": {
      "text/plain": [
       "{'data': array([[1.799e+01, 1.038e+01, 1.228e+02, ..., 2.654e-01, 4.601e-01,\n",
       "         1.189e-01],\n",
       "        [2.057e+01, 1.777e+01, 1.329e+02, ..., 1.860e-01, 2.750e-01,\n",
       "         8.902e-02],\n",
       "        [1.969e+01, 2.125e+01, 1.300e+02, ..., 2.430e-01, 3.613e-01,\n",
       "         8.758e-02],\n",
       "        ...,\n",
       "        [1.660e+01, 2.808e+01, 1.083e+02, ..., 1.418e-01, 2.218e-01,\n",
       "         7.820e-02],\n",
       "        [2.060e+01, 2.933e+01, 1.401e+02, ..., 2.650e-01, 4.087e-01,\n",
       "         1.240e-01],\n",
       "        [7.760e+00, 2.454e+01, 4.792e+01, ..., 0.000e+00, 2.871e-01,\n",
       "         7.039e-02]]),\n",
       " 'target': array([0, 0, 0, 0, 0, 0, 0, 0, 0, 0, 0, 0, 0, 0, 0, 0, 0, 0, 0, 1, 1, 1,\n",
       "        0, 0, 0, 0, 0, 0, 0, 0, 0, 0, 0, 0, 0, 0, 0, 1, 0, 0, 0, 0, 0, 0,\n",
       "        0, 0, 1, 0, 1, 1, 1, 1, 1, 0, 0, 1, 0, 0, 1, 1, 1, 1, 0, 1, 0, 0,\n",
       "        1, 1, 1, 1, 0, 1, 0, 0, 1, 0, 1, 0, 0, 1, 1, 1, 0, 0, 1, 0, 0, 0,\n",
       "        1, 1, 1, 0, 1, 1, 0, 0, 1, 1, 1, 0, 0, 1, 1, 1, 1, 0, 1, 1, 0, 1,\n",
       "        1, 1, 1, 1, 1, 1, 1, 0, 0, 0, 1, 0, 0, 1, 1, 1, 0, 0, 1, 0, 1, 0,\n",
       "        0, 1, 0, 0, 1, 1, 0, 1, 1, 0, 1, 1, 1, 1, 0, 1, 1, 1, 1, 1, 1, 1,\n",
       "        1, 1, 0, 1, 1, 1, 1, 0, 0, 1, 0, 1, 1, 0, 0, 1, 1, 0, 0, 1, 1, 1,\n",
       "        1, 0, 1, 1, 0, 0, 0, 1, 0, 1, 0, 1, 1, 1, 0, 1, 1, 0, 0, 1, 0, 0,\n",
       "        0, 0, 1, 0, 0, 0, 1, 0, 1, 0, 1, 1, 0, 1, 0, 0, 0, 0, 1, 1, 0, 0,\n",
       "        1, 1, 1, 0, 1, 1, 1, 1, 1, 0, 0, 1, 1, 0, 1, 1, 0, 0, 1, 0, 1, 1,\n",
       "        1, 1, 0, 1, 1, 1, 1, 1, 0, 1, 0, 0, 0, 0, 0, 0, 0, 0, 0, 0, 0, 0,\n",
       "        0, 0, 1, 1, 1, 1, 1, 1, 0, 1, 0, 1, 1, 0, 1, 1, 0, 1, 0, 0, 1, 1,\n",
       "        1, 1, 1, 1, 1, 1, 1, 1, 1, 1, 1, 0, 1, 1, 0, 1, 0, 1, 1, 1, 1, 1,\n",
       "        1, 1, 1, 1, 1, 1, 1, 1, 1, 0, 1, 1, 1, 0, 1, 0, 1, 1, 1, 1, 0, 0,\n",
       "        0, 1, 1, 1, 1, 0, 1, 0, 1, 0, 1, 1, 1, 0, 1, 1, 1, 1, 1, 1, 1, 0,\n",
       "        0, 0, 1, 1, 1, 1, 1, 1, 1, 1, 1, 1, 1, 0, 0, 1, 0, 0, 0, 1, 0, 0,\n",
       "        1, 1, 1, 1, 1, 0, 1, 1, 1, 1, 1, 0, 1, 1, 1, 0, 1, 1, 0, 0, 1, 1,\n",
       "        1, 1, 1, 1, 0, 1, 1, 1, 1, 1, 1, 1, 0, 1, 1, 1, 1, 1, 0, 1, 1, 0,\n",
       "        1, 1, 1, 1, 1, 1, 1, 1, 1, 1, 1, 1, 0, 1, 0, 0, 1, 0, 1, 1, 1, 1,\n",
       "        1, 0, 1, 1, 0, 1, 0, 1, 1, 0, 1, 0, 1, 1, 1, 1, 1, 1, 1, 1, 0, 0,\n",
       "        1, 1, 1, 1, 1, 1, 0, 1, 1, 1, 1, 1, 1, 1, 1, 1, 1, 0, 1, 1, 1, 1,\n",
       "        1, 1, 1, 0, 1, 0, 1, 1, 0, 1, 1, 1, 1, 1, 0, 0, 1, 0, 1, 0, 1, 1,\n",
       "        1, 1, 1, 0, 1, 1, 0, 1, 0, 1, 0, 0, 1, 1, 1, 0, 1, 1, 1, 1, 1, 1,\n",
       "        1, 1, 1, 1, 1, 0, 1, 0, 0, 1, 1, 1, 1, 1, 1, 1, 1, 1, 1, 1, 1, 1,\n",
       "        1, 1, 1, 1, 1, 1, 1, 1, 1, 1, 1, 1, 0, 0, 0, 0, 0, 0, 1]),\n",
       " 'frame': None,\n",
       " 'target_names': array(['malignant', 'benign'], dtype='<U9'),\n",
       " 'DESCR': '.. _breast_cancer_dataset:\\n\\nBreast cancer wisconsin (diagnostic) dataset\\n--------------------------------------------\\n\\n**Data Set Characteristics:**\\n\\n    :Number of Instances: 569\\n\\n    :Number of Attributes: 30 numeric, predictive attributes and the class\\n\\n    :Attribute Information:\\n        - radius (mean of distances from center to points on the perimeter)\\n        - texture (standard deviation of gray-scale values)\\n        - perimeter\\n        - area\\n        - smoothness (local variation in radius lengths)\\n        - compactness (perimeter^2 / area - 1.0)\\n        - concavity (severity of concave portions of the contour)\\n        - concave points (number of concave portions of the contour)\\n        - symmetry\\n        - fractal dimension (\"coastline approximation\" - 1)\\n\\n        The mean, standard error, and \"worst\" or largest (mean of the three\\n        worst/largest values) of these features were computed for each image,\\n        resulting in 30 features.  For instance, field 0 is Mean Radius, field\\n        10 is Radius SE, field 20 is Worst Radius.\\n\\n        - class:\\n                - WDBC-Malignant\\n                - WDBC-Benign\\n\\n    :Summary Statistics:\\n\\n    ===================================== ====== ======\\n                                           Min    Max\\n    ===================================== ====== ======\\n    radius (mean):                        6.981  28.11\\n    texture (mean):                       9.71   39.28\\n    perimeter (mean):                     43.79  188.5\\n    area (mean):                          143.5  2501.0\\n    smoothness (mean):                    0.053  0.163\\n    compactness (mean):                   0.019  0.345\\n    concavity (mean):                     0.0    0.427\\n    concave points (mean):                0.0    0.201\\n    symmetry (mean):                      0.106  0.304\\n    fractal dimension (mean):             0.05   0.097\\n    radius (standard error):              0.112  2.873\\n    texture (standard error):             0.36   4.885\\n    perimeter (standard error):           0.757  21.98\\n    area (standard error):                6.802  542.2\\n    smoothness (standard error):          0.002  0.031\\n    compactness (standard error):         0.002  0.135\\n    concavity (standard error):           0.0    0.396\\n    concave points (standard error):      0.0    0.053\\n    symmetry (standard error):            0.008  0.079\\n    fractal dimension (standard error):   0.001  0.03\\n    radius (worst):                       7.93   36.04\\n    texture (worst):                      12.02  49.54\\n    perimeter (worst):                    50.41  251.2\\n    area (worst):                         185.2  4254.0\\n    smoothness (worst):                   0.071  0.223\\n    compactness (worst):                  0.027  1.058\\n    concavity (worst):                    0.0    1.252\\n    concave points (worst):               0.0    0.291\\n    symmetry (worst):                     0.156  0.664\\n    fractal dimension (worst):            0.055  0.208\\n    ===================================== ====== ======\\n\\n    :Missing Attribute Values: None\\n\\n    :Class Distribution: 212 - Malignant, 357 - Benign\\n\\n    :Creator:  Dr. William H. Wolberg, W. Nick Street, Olvi L. Mangasarian\\n\\n    :Donor: Nick Street\\n\\n    :Date: November, 1995\\n\\nThis is a copy of UCI ML Breast Cancer Wisconsin (Diagnostic) datasets.\\nhttps://goo.gl/U2Uwz2\\n\\nFeatures are computed from a digitized image of a fine needle\\naspirate (FNA) of a breast mass.  They describe\\ncharacteristics of the cell nuclei present in the image.\\n\\nSeparating plane described above was obtained using\\nMultisurface Method-Tree (MSM-T) [K. P. Bennett, \"Decision Tree\\nConstruction Via Linear Programming.\" Proceedings of the 4th\\nMidwest Artificial Intelligence and Cognitive Science Society,\\npp. 97-101, 1992], a classification method which uses linear\\nprogramming to construct a decision tree.  Relevant features\\nwere selected using an exhaustive search in the space of 1-4\\nfeatures and 1-3 separating planes.\\n\\nThe actual linear program used to obtain the separating plane\\nin the 3-dimensional space is that described in:\\n[K. P. Bennett and O. L. Mangasarian: \"Robust Linear\\nProgramming Discrimination of Two Linearly Inseparable Sets\",\\nOptimization Methods and Software 1, 1992, 23-34].\\n\\nThis database is also available through the UW CS ftp server:\\n\\nftp ftp.cs.wisc.edu\\ncd math-prog/cpo-dataset/machine-learn/WDBC/\\n\\n|details-start|\\n**References**\\n|details-split|\\n\\n- W.N. Street, W.H. Wolberg and O.L. Mangasarian. Nuclear feature extraction \\n  for breast tumor diagnosis. IS&T/SPIE 1993 International Symposium on \\n  Electronic Imaging: Science and Technology, volume 1905, pages 861-870,\\n  San Jose, CA, 1993.\\n- O.L. Mangasarian, W.N. Street and W.H. Wolberg. Breast cancer diagnosis and \\n  prognosis via linear programming. Operations Research, 43(4), pages 570-577, \\n  July-August 1995.\\n- W.H. Wolberg, W.N. Street, and O.L. Mangasarian. Machine learning techniques\\n  to diagnose breast cancer from fine-needle aspirates. Cancer Letters 77 (1994) \\n  163-171.\\n\\n|details-end|',\n",
       " 'feature_names': array(['mean radius', 'mean texture', 'mean perimeter', 'mean area',\n",
       "        'mean smoothness', 'mean compactness', 'mean concavity',\n",
       "        'mean concave points', 'mean symmetry', 'mean fractal dimension',\n",
       "        'radius error', 'texture error', 'perimeter error', 'area error',\n",
       "        'smoothness error', 'compactness error', 'concavity error',\n",
       "        'concave points error', 'symmetry error',\n",
       "        'fractal dimension error', 'worst radius', 'worst texture',\n",
       "        'worst perimeter', 'worst area', 'worst smoothness',\n",
       "        'worst compactness', 'worst concavity', 'worst concave points',\n",
       "        'worst symmetry', 'worst fractal dimension'], dtype='<U23'),\n",
       " 'filename': 'breast_cancer.csv',\n",
       " 'data_module': 'sklearn.datasets.data'}"
      ]
     },
     "execution_count": 2,
     "metadata": {},
     "output_type": "execute_result"
    }
   ],
   "source": [
    "# load data\n",
    "data = load_breast_cancer()\n",
    "data"
   ]
  },
  {
   "cell_type": "code",
   "execution_count": 3,
   "id": "6ff103e1-0324-4779-8fc3-70e6db352051",
   "metadata": {},
   "outputs": [
    {
     "data": {
      "text/plain": [
       "sklearn.utils._bunch.Bunch"
      ]
     },
     "execution_count": 3,
     "metadata": {},
     "output_type": "execute_result"
    }
   ],
   "source": [
    "type(data)"
   ]
  },
  {
   "cell_type": "code",
   "execution_count": 4,
   "id": "03219850-b04f-412c-b41c-f28ec952b5ab",
   "metadata": {},
   "outputs": [
    {
     "data": {
      "text/plain": [
       "dict_keys(['data', 'target', 'frame', 'target_names', 'DESCR', 'feature_names', 'filename', 'data_module'])"
      ]
     },
     "execution_count": 4,
     "metadata": {},
     "output_type": "execute_result"
    }
   ],
   "source": [
    "data.keys()"
   ]
  },
  {
   "cell_type": "code",
   "execution_count": 5,
   "id": "271bfd9b-f217-4ce7-b2a8-623669549dd4",
   "metadata": {},
   "outputs": [
    {
     "data": {
      "text/plain": [
       "(569, 30)"
      ]
     },
     "execution_count": 5,
     "metadata": {},
     "output_type": "execute_result"
    }
   ],
   "source": [
    "data.data.shape"
   ]
  },
  {
   "cell_type": "code",
   "execution_count": 6,
   "id": "ae650710-f560-44c8-b593-ec2a9a687bc4",
   "metadata": {},
   "outputs": [
    {
     "data": {
      "text/plain": [
       "array(['malignant', 'benign'], dtype='<U9')"
      ]
     },
     "execution_count": 6,
     "metadata": {},
     "output_type": "execute_result"
    }
   ],
   "source": [
    "data.target_names"
   ]
  },
  {
   "cell_type": "code",
   "execution_count": 7,
   "id": "8519ff4c-6bce-41f0-a835-6c95679b5395",
   "metadata": {},
   "outputs": [
    {
     "data": {
      "text/plain": [
       "(569,)"
      ]
     },
     "execution_count": 7,
     "metadata": {},
     "output_type": "execute_result"
    }
   ],
   "source": [
    "data.target.shape"
   ]
  },
  {
   "cell_type": "code",
   "execution_count": 8,
   "id": "285b2770-d789-417f-b99a-4ade48009304",
   "metadata": {},
   "outputs": [
    {
     "data": {
      "text/plain": [
       "array(['mean radius', 'mean texture', 'mean perimeter', 'mean area',\n",
       "       'mean smoothness', 'mean compactness', 'mean concavity',\n",
       "       'mean concave points', 'mean symmetry', 'mean fractal dimension',\n",
       "       'radius error', 'texture error', 'perimeter error', 'area error',\n",
       "       'smoothness error', 'compactness error', 'concavity error',\n",
       "       'concave points error', 'symmetry error',\n",
       "       'fractal dimension error', 'worst radius', 'worst texture',\n",
       "       'worst perimeter', 'worst area', 'worst smoothness',\n",
       "       'worst compactness', 'worst concavity', 'worst concave points',\n",
       "       'worst symmetry', 'worst fractal dimension'], dtype='<U23')"
      ]
     },
     "execution_count": 8,
     "metadata": {},
     "output_type": "execute_result"
    }
   ],
   "source": [
    "data.feature_names"
   ]
  },
  {
   "cell_type": "code",
   "execution_count": 9,
   "id": "b5677602-9c9b-46dd-aa02-3266a3af1f58",
   "metadata": {},
   "outputs": [],
   "source": [
    "# split data: train-test\n",
    "X_train, X_test, y_train, y_test = train_test_split(data.data, data.target, test_size=0.33)"
   ]
  },
  {
   "cell_type": "code",
   "execution_count": 10,
   "id": "4f4c184c-8ba0-4cc6-8dc0-cd564ff525ba",
   "metadata": {},
   "outputs": [
    {
     "data": {
      "text/plain": [
       "(381, 30)"
      ]
     },
     "execution_count": 10,
     "metadata": {},
     "output_type": "execute_result"
    }
   ],
   "source": [
    "N, D = X_train.shape\n",
    "N, D"
   ]
  },
  {
   "cell_type": "code",
   "execution_count": 11,
   "id": "852f1834-2765-4398-aed2-ca014f023114",
   "metadata": {},
   "outputs": [],
   "source": [
    "# normalize the data set\n",
    "scaler = StandardScaler()\n",
    "\n",
    "X_train = scaler.fit_transform(X_train)\n",
    "X_test = scaler.transform(X_test)"
   ]
  },
  {
   "cell_type": "markdown",
   "id": "749d831a-f395-46ca-b740-357bf210900c",
   "metadata": {},
   "source": [
    "## Simple Logistic Regression Model:"
   ]
  },
  {
   "cell_type": "code",
   "execution_count": 12,
   "id": "aa9ff658-4824-46d2-9048-f5d60bed6574",
   "metadata": {},
   "outputs": [
    {
     "name": "stdout",
     "output_type": "stream",
     "text": [
      "WARNING:tensorflow:From C:\\Users\\ashut\\AppData\\Roaming\\Python\\Python310\\site-packages\\keras\\src\\backend.py:1398: The name tf.executing_eagerly_outside_functions is deprecated. Please use tf.compat.v1.executing_eagerly_outside_functions instead.\n",
      "\n"
     ]
    }
   ],
   "source": [
    "# define logistic regression model\n",
    "model = tf.keras.models.Sequential([\n",
    "    tf.keras.layers.Input(shape=(D,)),\n",
    "    tf.keras.layers.Dense(1, activation='sigmoid')\n",
    "])\n",
    "\n",
    "# alternative way\n",
    "# model = tf.keras.models.Sequential()\n",
    "# model.add(tf.keras.layers.Dense(1, input_shape=(D,), activation='signmoid))"
   ]
  },
  {
   "cell_type": "code",
   "execution_count": 13,
   "id": "aac97010-9f14-4daa-aebe-2f5a5b82b7b0",
   "metadata": {},
   "outputs": [
    {
     "name": "stdout",
     "output_type": "stream",
     "text": [
      "WARNING:tensorflow:From C:\\Users\\ashut\\AppData\\Roaming\\Python\\Python310\\site-packages\\keras\\src\\optimizers\\__init__.py:309: The name tf.train.Optimizer is deprecated. Please use tf.compat.v1.train.Optimizer instead.\n",
      "\n"
     ]
    }
   ],
   "source": [
    "# compile model\n",
    "model.compile(\n",
    "    optimizer='adam',\n",
    "    loss='binary_crossentropy',   \n",
    "    metrics=['accuracy'] \n",
    ")"
   ]
  },
  {
   "cell_type": "code",
   "execution_count": 14,
   "id": "25b7e21b-e7ad-4877-a641-0acf654e51b0",
   "metadata": {},
   "outputs": [
    {
     "name": "stdout",
     "output_type": "stream",
     "text": [
      "Epoch 1/100\n",
      "WARNING:tensorflow:From C:\\Users\\ashut\\AppData\\Roaming\\Python\\Python310\\site-packages\\keras\\src\\utils\\tf_utils.py:492: The name tf.ragged.RaggedTensorValue is deprecated. Please use tf.compat.v1.ragged.RaggedTensorValue instead.\n",
      "\n",
      "WARNING:tensorflow:From C:\\Users\\ashut\\AppData\\Roaming\\Python\\Python310\\site-packages\\keras\\src\\engine\\base_layer_utils.py:384: The name tf.executing_eagerly_outside_functions is deprecated. Please use tf.compat.v1.executing_eagerly_outside_functions instead.\n",
      "\n",
      "12/12 [==============================] - 1s 28ms/step - loss: 0.9849 - accuracy: 0.5039 - val_loss: 0.8652 - val_accuracy: 0.5160\n",
      "Epoch 2/100\n",
      "12/12 [==============================] - 0s 10ms/step - loss: 0.9137 - accuracy: 0.5486 - val_loss: 0.7974 - val_accuracy: 0.5585\n",
      "Epoch 3/100\n",
      "12/12 [==============================] - 0s 8ms/step - loss: 0.8512 - accuracy: 0.5748 - val_loss: 0.7356 - val_accuracy: 0.6277\n",
      "Epoch 4/100\n",
      "12/12 [==============================] - 0s 9ms/step - loss: 0.7911 - accuracy: 0.6063 - val_loss: 0.6826 - val_accuracy: 0.6543\n",
      "Epoch 5/100\n",
      "12/12 [==============================] - 0s 10ms/step - loss: 0.7383 - accuracy: 0.6378 - val_loss: 0.6353 - val_accuracy: 0.6862\n",
      "Epoch 6/100\n",
      "12/12 [==============================] - 0s 9ms/step - loss: 0.6916 - accuracy: 0.6772 - val_loss: 0.5942 - val_accuracy: 0.7447\n",
      "Epoch 7/100\n",
      "12/12 [==============================] - 0s 8ms/step - loss: 0.6485 - accuracy: 0.7060 - val_loss: 0.5581 - val_accuracy: 0.7713\n",
      "Epoch 8/100\n",
      "12/12 [==============================] - 0s 8ms/step - loss: 0.6118 - accuracy: 0.7297 - val_loss: 0.5251 - val_accuracy: 0.7926\n",
      "Epoch 9/100\n",
      "12/12 [==============================] - 0s 9ms/step - loss: 0.5767 - accuracy: 0.7480 - val_loss: 0.4970 - val_accuracy: 0.8138\n",
      "Epoch 10/100\n",
      "12/12 [==============================] - 0s 9ms/step - loss: 0.5473 - accuracy: 0.7743 - val_loss: 0.4715 - val_accuracy: 0.8245\n",
      "Epoch 11/100\n",
      "12/12 [==============================] - 0s 8ms/step - loss: 0.5195 - accuracy: 0.7927 - val_loss: 0.4481 - val_accuracy: 0.8298\n",
      "Epoch 12/100\n",
      "12/12 [==============================] - 0s 7ms/step - loss: 0.4942 - accuracy: 0.8084 - val_loss: 0.4274 - val_accuracy: 0.8351\n",
      "Epoch 13/100\n",
      "12/12 [==============================] - 0s 8ms/step - loss: 0.4719 - accuracy: 0.8136 - val_loss: 0.4084 - val_accuracy: 0.8617\n",
      "Epoch 14/100\n",
      "12/12 [==============================] - 0s 9ms/step - loss: 0.4517 - accuracy: 0.8241 - val_loss: 0.3909 - val_accuracy: 0.8670\n",
      "Epoch 15/100\n",
      "12/12 [==============================] - 0s 8ms/step - loss: 0.4322 - accuracy: 0.8268 - val_loss: 0.3751 - val_accuracy: 0.8670\n",
      "Epoch 16/100\n",
      "12/12 [==============================] - 0s 9ms/step - loss: 0.4143 - accuracy: 0.8399 - val_loss: 0.3610 - val_accuracy: 0.8723\n",
      "Epoch 17/100\n",
      "12/12 [==============================] - 0s 8ms/step - loss: 0.3985 - accuracy: 0.8425 - val_loss: 0.3477 - val_accuracy: 0.8777\n",
      "Epoch 18/100\n",
      "12/12 [==============================] - 0s 9ms/step - loss: 0.3839 - accuracy: 0.8609 - val_loss: 0.3352 - val_accuracy: 0.8830\n",
      "Epoch 19/100\n",
      "12/12 [==============================] - 0s 9ms/step - loss: 0.3704 - accuracy: 0.8688 - val_loss: 0.3237 - val_accuracy: 0.8777\n",
      "Epoch 20/100\n",
      "12/12 [==============================] - 0s 9ms/step - loss: 0.3574 - accuracy: 0.8740 - val_loss: 0.3129 - val_accuracy: 0.8830\n",
      "Epoch 21/100\n",
      "12/12 [==============================] - 0s 8ms/step - loss: 0.3457 - accuracy: 0.8740 - val_loss: 0.3030 - val_accuracy: 0.8830\n",
      "Epoch 22/100\n",
      "12/12 [==============================] - 0s 6ms/step - loss: 0.3347 - accuracy: 0.8819 - val_loss: 0.2934 - val_accuracy: 0.8883\n",
      "Epoch 23/100\n",
      "12/12 [==============================] - 0s 6ms/step - loss: 0.3245 - accuracy: 0.8845 - val_loss: 0.2847 - val_accuracy: 0.8883\n",
      "Epoch 24/100\n",
      "12/12 [==============================] - 0s 6ms/step - loss: 0.3147 - accuracy: 0.8871 - val_loss: 0.2767 - val_accuracy: 0.8936\n",
      "Epoch 25/100\n",
      "12/12 [==============================] - 0s 8ms/step - loss: 0.3058 - accuracy: 0.8924 - val_loss: 0.2690 - val_accuracy: 0.8936\n",
      "Epoch 26/100\n",
      "12/12 [==============================] - 0s 8ms/step - loss: 0.2976 - accuracy: 0.9003 - val_loss: 0.2615 - val_accuracy: 0.8989\n",
      "Epoch 27/100\n",
      "12/12 [==============================] - 0s 6ms/step - loss: 0.2899 - accuracy: 0.9029 - val_loss: 0.2547 - val_accuracy: 0.9096\n",
      "Epoch 28/100\n",
      "12/12 [==============================] - 0s 6ms/step - loss: 0.2822 - accuracy: 0.9029 - val_loss: 0.2481 - val_accuracy: 0.9096\n",
      "Epoch 29/100\n",
      "12/12 [==============================] - 0s 6ms/step - loss: 0.2752 - accuracy: 0.9055 - val_loss: 0.2418 - val_accuracy: 0.9096\n",
      "Epoch 30/100\n",
      "12/12 [==============================] - 0s 6ms/step - loss: 0.2686 - accuracy: 0.9081 - val_loss: 0.2359 - val_accuracy: 0.9096\n",
      "Epoch 31/100\n",
      "12/12 [==============================] - 0s 6ms/step - loss: 0.2624 - accuracy: 0.9108 - val_loss: 0.2302 - val_accuracy: 0.9149\n",
      "Epoch 32/100\n",
      "12/12 [==============================] - 0s 6ms/step - loss: 0.2564 - accuracy: 0.9134 - val_loss: 0.2249 - val_accuracy: 0.9149\n",
      "Epoch 33/100\n",
      "12/12 [==============================] - 0s 6ms/step - loss: 0.2510 - accuracy: 0.9160 - val_loss: 0.2198 - val_accuracy: 0.9202\n",
      "Epoch 34/100\n",
      "12/12 [==============================] - 0s 6ms/step - loss: 0.2453 - accuracy: 0.9186 - val_loss: 0.2149 - val_accuracy: 0.9255\n",
      "Epoch 35/100\n",
      "12/12 [==============================] - 0s 6ms/step - loss: 0.2403 - accuracy: 0.9186 - val_loss: 0.2101 - val_accuracy: 0.9255\n",
      "Epoch 36/100\n",
      "12/12 [==============================] - 0s 7ms/step - loss: 0.2352 - accuracy: 0.9186 - val_loss: 0.2058 - val_accuracy: 0.9255\n",
      "Epoch 37/100\n",
      "12/12 [==============================] - 0s 7ms/step - loss: 0.2306 - accuracy: 0.9186 - val_loss: 0.2016 - val_accuracy: 0.9309\n",
      "Epoch 38/100\n",
      "12/12 [==============================] - 0s 7ms/step - loss: 0.2263 - accuracy: 0.9213 - val_loss: 0.1974 - val_accuracy: 0.9309\n",
      "Epoch 39/100\n",
      "12/12 [==============================] - 0s 7ms/step - loss: 0.2221 - accuracy: 0.9213 - val_loss: 0.1935 - val_accuracy: 0.9309\n",
      "Epoch 40/100\n",
      "12/12 [==============================] - 0s 9ms/step - loss: 0.2182 - accuracy: 0.9239 - val_loss: 0.1895 - val_accuracy: 0.9362\n",
      "Epoch 41/100\n",
      "12/12 [==============================] - 0s 7ms/step - loss: 0.2139 - accuracy: 0.9265 - val_loss: 0.1860 - val_accuracy: 0.9362\n",
      "Epoch 42/100\n",
      "12/12 [==============================] - 0s 8ms/step - loss: 0.2104 - accuracy: 0.9291 - val_loss: 0.1825 - val_accuracy: 0.9362\n",
      "Epoch 43/100\n",
      "12/12 [==============================] - 0s 8ms/step - loss: 0.2068 - accuracy: 0.9291 - val_loss: 0.1791 - val_accuracy: 0.9362\n",
      "Epoch 44/100\n",
      "12/12 [==============================] - 0s 9ms/step - loss: 0.2034 - accuracy: 0.9291 - val_loss: 0.1758 - val_accuracy: 0.9362\n",
      "Epoch 45/100\n",
      "12/12 [==============================] - 0s 8ms/step - loss: 0.2001 - accuracy: 0.9318 - val_loss: 0.1727 - val_accuracy: 0.9415\n",
      "Epoch 46/100\n",
      "12/12 [==============================] - 0s 9ms/step - loss: 0.1971 - accuracy: 0.9318 - val_loss: 0.1697 - val_accuracy: 0.9415\n",
      "Epoch 47/100\n",
      "12/12 [==============================] - 0s 9ms/step - loss: 0.1940 - accuracy: 0.9370 - val_loss: 0.1668 - val_accuracy: 0.9415\n",
      "Epoch 48/100\n",
      "12/12 [==============================] - 0s 8ms/step - loss: 0.1911 - accuracy: 0.9370 - val_loss: 0.1641 - val_accuracy: 0.9415\n",
      "Epoch 49/100\n",
      "12/12 [==============================] - 0s 9ms/step - loss: 0.1883 - accuracy: 0.9370 - val_loss: 0.1614 - val_accuracy: 0.9415\n",
      "Epoch 50/100\n",
      "12/12 [==============================] - 0s 7ms/step - loss: 0.1858 - accuracy: 0.9370 - val_loss: 0.1588 - val_accuracy: 0.9468\n",
      "Epoch 51/100\n",
      "12/12 [==============================] - 0s 9ms/step - loss: 0.1832 - accuracy: 0.9370 - val_loss: 0.1563 - val_accuracy: 0.9468\n",
      "Epoch 52/100\n",
      "12/12 [==============================] - 0s 9ms/step - loss: 0.1807 - accuracy: 0.9396 - val_loss: 0.1539 - val_accuracy: 0.9468\n",
      "Epoch 53/100\n",
      "12/12 [==============================] - 0s 9ms/step - loss: 0.1785 - accuracy: 0.9396 - val_loss: 0.1515 - val_accuracy: 0.9468\n",
      "Epoch 54/100\n",
      "12/12 [==============================] - 0s 9ms/step - loss: 0.1762 - accuracy: 0.9423 - val_loss: 0.1492 - val_accuracy: 0.9468\n",
      "Epoch 55/100\n",
      "12/12 [==============================] - 0s 10ms/step - loss: 0.1739 - accuracy: 0.9423 - val_loss: 0.1470 - val_accuracy: 0.9468\n",
      "Epoch 56/100\n",
      "12/12 [==============================] - 0s 9ms/step - loss: 0.1719 - accuracy: 0.9423 - val_loss: 0.1450 - val_accuracy: 0.9468\n",
      "Epoch 57/100\n",
      "12/12 [==============================] - 0s 7ms/step - loss: 0.1698 - accuracy: 0.9423 - val_loss: 0.1430 - val_accuracy: 0.9521\n",
      "Epoch 58/100\n",
      "12/12 [==============================] - 0s 11ms/step - loss: 0.1680 - accuracy: 0.9423 - val_loss: 0.1409 - val_accuracy: 0.9574\n",
      "Epoch 59/100\n",
      "12/12 [==============================] - 0s 10ms/step - loss: 0.1661 - accuracy: 0.9423 - val_loss: 0.1389 - val_accuracy: 0.9574\n",
      "Epoch 60/100\n",
      "12/12 [==============================] - 0s 7ms/step - loss: 0.1642 - accuracy: 0.9423 - val_loss: 0.1371 - val_accuracy: 0.9574\n",
      "Epoch 61/100\n",
      "12/12 [==============================] - 0s 11ms/step - loss: 0.1625 - accuracy: 0.9449 - val_loss: 0.1353 - val_accuracy: 0.9574\n",
      "Epoch 62/100\n",
      "12/12 [==============================] - 0s 9ms/step - loss: 0.1608 - accuracy: 0.9501 - val_loss: 0.1336 - val_accuracy: 0.9574\n",
      "Epoch 63/100\n",
      "12/12 [==============================] - 0s 9ms/step - loss: 0.1592 - accuracy: 0.9501 - val_loss: 0.1319 - val_accuracy: 0.9574\n",
      "Epoch 64/100\n",
      "12/12 [==============================] - 0s 9ms/step - loss: 0.1576 - accuracy: 0.9501 - val_loss: 0.1303 - val_accuracy: 0.9574\n",
      "Epoch 65/100\n",
      "12/12 [==============================] - 0s 8ms/step - loss: 0.1561 - accuracy: 0.9554 - val_loss: 0.1286 - val_accuracy: 0.9574\n",
      "Epoch 66/100\n",
      "12/12 [==============================] - 0s 9ms/step - loss: 0.1546 - accuracy: 0.9554 - val_loss: 0.1270 - val_accuracy: 0.9574\n",
      "Epoch 67/100\n",
      "12/12 [==============================] - 0s 8ms/step - loss: 0.1531 - accuracy: 0.9554 - val_loss: 0.1256 - val_accuracy: 0.9574\n",
      "Epoch 68/100\n",
      "12/12 [==============================] - 0s 10ms/step - loss: 0.1517 - accuracy: 0.9554 - val_loss: 0.1241 - val_accuracy: 0.9628\n",
      "Epoch 69/100\n",
      "12/12 [==============================] - 0s 8ms/step - loss: 0.1504 - accuracy: 0.9554 - val_loss: 0.1227 - val_accuracy: 0.9628\n",
      "Epoch 70/100\n",
      "12/12 [==============================] - 0s 8ms/step - loss: 0.1492 - accuracy: 0.9606 - val_loss: 0.1213 - val_accuracy: 0.9628\n",
      "Epoch 71/100\n",
      "12/12 [==============================] - 0s 6ms/step - loss: 0.1478 - accuracy: 0.9606 - val_loss: 0.1199 - val_accuracy: 0.9628\n",
      "Epoch 72/100\n",
      "12/12 [==============================] - 0s 8ms/step - loss: 0.1465 - accuracy: 0.9580 - val_loss: 0.1186 - val_accuracy: 0.9628\n",
      "Epoch 73/100\n",
      "12/12 [==============================] - 0s 7ms/step - loss: 0.1454 - accuracy: 0.9606 - val_loss: 0.1173 - val_accuracy: 0.9681\n",
      "Epoch 74/100\n",
      "12/12 [==============================] - 0s 7ms/step - loss: 0.1442 - accuracy: 0.9606 - val_loss: 0.1161 - val_accuracy: 0.9681\n",
      "Epoch 75/100\n",
      "12/12 [==============================] - 0s 7ms/step - loss: 0.1431 - accuracy: 0.9606 - val_loss: 0.1149 - val_accuracy: 0.9681\n",
      "Epoch 76/100\n",
      "12/12 [==============================] - 0s 5ms/step - loss: 0.1420 - accuracy: 0.9606 - val_loss: 0.1137 - val_accuracy: 0.9681\n",
      "Epoch 77/100\n",
      "12/12 [==============================] - 0s 9ms/step - loss: 0.1409 - accuracy: 0.9606 - val_loss: 0.1126 - val_accuracy: 0.9681\n",
      "Epoch 78/100\n",
      "12/12 [==============================] - 0s 9ms/step - loss: 0.1398 - accuracy: 0.9606 - val_loss: 0.1115 - val_accuracy: 0.9681\n",
      "Epoch 79/100\n",
      "12/12 [==============================] - 0s 10ms/step - loss: 0.1388 - accuracy: 0.9606 - val_loss: 0.1104 - val_accuracy: 0.9734\n",
      "Epoch 80/100\n",
      "12/12 [==============================] - 0s 9ms/step - loss: 0.1378 - accuracy: 0.9606 - val_loss: 0.1093 - val_accuracy: 0.9734\n",
      "Epoch 81/100\n",
      "12/12 [==============================] - 0s 9ms/step - loss: 0.1368 - accuracy: 0.9606 - val_loss: 0.1082 - val_accuracy: 0.9734\n",
      "Epoch 82/100\n",
      "12/12 [==============================] - 0s 10ms/step - loss: 0.1359 - accuracy: 0.9633 - val_loss: 0.1072 - val_accuracy: 0.9734\n",
      "Epoch 83/100\n",
      "12/12 [==============================] - 0s 10ms/step - loss: 0.1350 - accuracy: 0.9633 - val_loss: 0.1062 - val_accuracy: 0.9734\n",
      "Epoch 84/100\n",
      "12/12 [==============================] - 0s 9ms/step - loss: 0.1341 - accuracy: 0.9633 - val_loss: 0.1053 - val_accuracy: 0.9734\n",
      "Epoch 85/100\n",
      "12/12 [==============================] - 0s 10ms/step - loss: 0.1332 - accuracy: 0.9633 - val_loss: 0.1043 - val_accuracy: 0.9734\n",
      "Epoch 86/100\n",
      "12/12 [==============================] - 0s 9ms/step - loss: 0.1324 - accuracy: 0.9633 - val_loss: 0.1034 - val_accuracy: 0.9734\n",
      "Epoch 87/100\n",
      "12/12 [==============================] - 0s 8ms/step - loss: 0.1315 - accuracy: 0.9633 - val_loss: 0.1025 - val_accuracy: 0.9734\n",
      "Epoch 88/100\n",
      "12/12 [==============================] - 0s 9ms/step - loss: 0.1307 - accuracy: 0.9633 - val_loss: 0.1016 - val_accuracy: 0.9734\n",
      "Epoch 89/100\n",
      "12/12 [==============================] - 0s 9ms/step - loss: 0.1299 - accuracy: 0.9633 - val_loss: 0.1008 - val_accuracy: 0.9734\n",
      "Epoch 90/100\n",
      "12/12 [==============================] - 0s 9ms/step - loss: 0.1292 - accuracy: 0.9659 - val_loss: 0.0999 - val_accuracy: 0.9787\n",
      "Epoch 91/100\n",
      "12/12 [==============================] - 0s 8ms/step - loss: 0.1284 - accuracy: 0.9659 - val_loss: 0.0990 - val_accuracy: 0.9787\n",
      "Epoch 92/100\n",
      "12/12 [==============================] - 0s 8ms/step - loss: 0.1276 - accuracy: 0.9659 - val_loss: 0.0983 - val_accuracy: 0.9787\n",
      "Epoch 93/100\n",
      "12/12 [==============================] - 0s 9ms/step - loss: 0.1269 - accuracy: 0.9659 - val_loss: 0.0974 - val_accuracy: 0.9787\n",
      "Epoch 94/100\n",
      "12/12 [==============================] - 0s 9ms/step - loss: 0.1262 - accuracy: 0.9659 - val_loss: 0.0967 - val_accuracy: 0.9787\n",
      "Epoch 95/100\n",
      "12/12 [==============================] - 0s 8ms/step - loss: 0.1255 - accuracy: 0.9659 - val_loss: 0.0959 - val_accuracy: 0.9787\n",
      "Epoch 96/100\n",
      "12/12 [==============================] - 0s 9ms/step - loss: 0.1248 - accuracy: 0.9659 - val_loss: 0.0952 - val_accuracy: 0.9787\n",
      "Epoch 97/100\n",
      "12/12 [==============================] - 0s 8ms/step - loss: 0.1241 - accuracy: 0.9685 - val_loss: 0.0944 - val_accuracy: 0.9787\n",
      "Epoch 98/100\n",
      "12/12 [==============================] - 0s 9ms/step - loss: 0.1235 - accuracy: 0.9685 - val_loss: 0.0937 - val_accuracy: 0.9787\n",
      "Epoch 99/100\n",
      "12/12 [==============================] - 0s 9ms/step - loss: 0.1228 - accuracy: 0.9685 - val_loss: 0.0930 - val_accuracy: 0.9787\n",
      "Epoch 100/100\n",
      "12/12 [==============================] - 0s 9ms/step - loss: 0.1222 - accuracy: 0.9685 - val_loss: 0.0923 - val_accuracy: 0.9787\n"
     ]
    }
   ],
   "source": [
    "# train the model\n",
    "r = model.fit(X_train, y_train, validation_data=(X_test, y_test), epochs=100)"
   ]
  },
  {
   "cell_type": "code",
   "execution_count": 15,
   "id": "7474d28e-fe27-4182-8550-fc293f1f22eb",
   "metadata": {},
   "outputs": [
    {
     "name": "stdout",
     "output_type": "stream",
     "text": [
      "12/12 [==============================] - 0s 1ms/step - loss: 0.1218 - accuracy: 0.9685\n"
     ]
    },
    {
     "data": {
      "text/plain": [
       "[0.12181942164897919, 0.9685039520263672]"
      ]
     },
     "execution_count": 15,
     "metadata": {},
     "output_type": "execute_result"
    }
   ],
   "source": [
    "# final train score\n",
    "model.evaluate(X_train, y_train)"
   ]
  },
  {
   "cell_type": "code",
   "execution_count": 16,
   "id": "40f95513-f2c6-4837-9f19-b1737df16371",
   "metadata": {},
   "outputs": [
    {
     "name": "stdout",
     "output_type": "stream",
     "text": [
      "6/6 [==============================] - 0s 2ms/step - loss: 0.0923 - accuracy: 0.9787\n"
     ]
    },
    {
     "data": {
      "text/plain": [
       "[0.09232471138238907, 0.978723406791687]"
      ]
     },
     "execution_count": 16,
     "metadata": {},
     "output_type": "execute_result"
    }
   ],
   "source": [
    "# final test score\n",
    "model.evaluate(X_test, y_test)"
   ]
  },
  {
   "cell_type": "code",
   "execution_count": 17,
   "id": "4a74d6c2-741e-4d7a-8669-21eb57924fee",
   "metadata": {},
   "outputs": [
    {
     "data": {
      "image/png": "[encoded data removed]",
      "text/plain": [
       "<Figure size 640x480 with 1 Axes>"
      ]
     },
     "metadata": {},
     "output_type": "display_data"
    }
   ],
   "source": [
    "# plot the loss\n",
    "plt.plot(r.history['loss'], label='loss')\n",
    "plt.plot(r.history['val_loss'], label='val_loss')\n",
    "\n",
    "plt.legend();"
   ]
  },
  {
   "cell_type": "code",
   "execution_count": 18,
   "id": "1253e043-5732-440f-8f0e-cd4344c80b32",
   "metadata": {},
   "outputs": [
    {
     "data": {
      "image/png": "[encoded data removed]",
      "text/plain": [
       "<Figure size 640x480 with 1 Axes>"
      ]
     },
     "metadata": {},
     "output_type": "display_data"
    }
   ],
   "source": [
    "# plot the accuracy\n",
    "plt.plot(r.history['accuracy'], label='acc')\n",
    "plt.plot(r.history['val_accuracy'], label='val_acc')\n",
    "\n",
    "plt.legend();"
   ]
  },
  {
   "cell_type": "markdown",
   "id": "2d91ed87-7206-4c40-ad7a-6d94618f27be",
   "metadata": {},
   "source": [
    "## Making Predictions:"
   ]
  },
  {
   "cell_type": "code",
   "execution_count": 19,
   "id": "8f18b53c-75d6-47f0-b46f-3f51ad1eb461",
   "metadata": {},
   "outputs": [
    {
     "name": "stdout",
     "output_type": "stream",
     "text": [
      "6/6 [==============================] - 0s 3ms/step\n"
     ]
    },
    {
     "data": {
      "text/plain": [
       "array([[1.70896557e-04],\n",
       "       [4.92490968e-03],\n",
       "       [1.37061894e-01],\n",
       "       [1.53273538e-01],\n",
       "       [3.16173100e-06],\n",
       "       [9.74110246e-01],\n",
       "       [9.78379965e-01],\n",
       "       [1.21351041e-01],\n",
       "       [1.29430415e-02],\n",
       "       [9.84212399e-01],\n",
       "       [4.53471541e-01],\n",
       "       [9.96597767e-01],\n",
       "       [9.98089254e-01],\n",
       "       [9.55112100e-01],\n",
       "       [9.39218938e-01],\n",
       "       [8.67445886e-01],\n",
       "       [9.82069910e-01],\n",
       "       [8.13430607e-01],\n",
       "       [2.34864210e-03],\n",
       "       [3.63718369e-04],\n",
       "       [4.37480509e-01],\n",
       "       [8.82199943e-01],\n",
       "       [1.58966624e-03],\n",
       "       [9.95120764e-01],\n",
       "       [1.72842678e-03],\n",
       "       [3.00322404e-06],\n",
       "       [7.75832713e-01],\n",
       "       [9.47480500e-01],\n",
       "       [8.66638184e-01],\n",
       "       [9.92129624e-01],\n",
       "       [9.04249682e-05],\n",
       "       [9.83372033e-01],\n",
       "       [1.30066918e-02],\n",
       "       [9.89371002e-01],\n",
       "       [1.86654238e-03],\n",
       "       [9.66833770e-01],\n",
       "       [1.64266734e-04],\n",
       "       [2.40243335e-05],\n",
       "       [8.76030326e-01],\n",
       "       [9.80726182e-01],\n",
       "       [8.51432979e-03],\n",
       "       [2.73830537e-02],\n",
       "       [7.61591792e-01],\n",
       "       [7.83642158e-02],\n",
       "       [9.27513421e-01],\n",
       "       [3.69581804e-02],\n",
       "       [9.35323611e-02],\n",
       "       [9.81905162e-01],\n",
       "       [9.95765209e-01],\n",
       "       [1.59435533e-02],\n",
       "       [2.69922167e-02],\n",
       "       [6.98592186e-01],\n",
       "       [6.37420490e-02],\n",
       "       [8.63373687e-04],\n",
       "       [9.92463827e-01],\n",
       "       [6.11473382e-01],\n",
       "       [9.85335290e-01],\n",
       "       [1.91422570e-02],\n",
       "       [4.76054156e-05],\n",
       "       [7.62500942e-01],\n",
       "       [9.96810436e-01],\n",
       "       [9.96071160e-01],\n",
       "       [9.38910723e-01],\n",
       "       [4.10955079e-04],\n",
       "       [9.45940793e-01],\n",
       "       [9.50354397e-01],\n",
       "       [9.72296018e-03],\n",
       "       [5.57931419e-03],\n",
       "       [2.03039381e-03],\n",
       "       [9.99756336e-01],\n",
       "       [9.58361804e-01],\n",
       "       [2.39279517e-03],\n",
       "       [1.78873256e-01],\n",
       "       [8.06244314e-01],\n",
       "       [4.22880761e-02],\n",
       "       [9.95889008e-01],\n",
       "       [9.77039695e-01],\n",
       "       [9.96798873e-01],\n",
       "       [6.58451557e-01],\n",
       "       [9.93353844e-01],\n",
       "       [9.35878336e-01],\n",
       "       [4.35085535e-01],\n",
       "       [4.75877849e-03],\n",
       "       [7.61181355e-01],\n",
       "       [9.41916883e-01],\n",
       "       [8.79599333e-01],\n",
       "       [9.51615691e-01],\n",
       "       [1.17178743e-05],\n",
       "       [9.20093894e-01],\n",
       "       [5.01748100e-02],\n",
       "       [9.92316127e-01],\n",
       "       [7.50983541e-04],\n",
       "       [9.30948198e-01],\n",
       "       [6.43152595e-01],\n",
       "       [9.30315673e-01],\n",
       "       [9.89321232e-01],\n",
       "       [8.00815701e-01],\n",
       "       [2.71763265e-01],\n",
       "       [8.94569933e-01],\n",
       "       [8.44499528e-01],\n",
       "       [2.83930868e-01],\n",
       "       [6.46572530e-01],\n",
       "       [2.64917105e-03],\n",
       "       [8.58080387e-01],\n",
       "       [9.95385647e-01],\n",
       "       [9.90154803e-01],\n",
       "       [2.21347567e-02],\n",
       "       [8.37795079e-01],\n",
       "       [1.90188624e-02],\n",
       "       [9.12400603e-01],\n",
       "       [9.68549132e-01],\n",
       "       [9.93698299e-01],\n",
       "       [3.00332740e-05],\n",
       "       [9.74633157e-01],\n",
       "       [9.12496865e-01],\n",
       "       [2.64396686e-02],\n",
       "       [9.94180739e-01],\n",
       "       [4.97128488e-03],\n",
       "       [9.16239023e-01],\n",
       "       [9.92005944e-01],\n",
       "       [9.18520629e-01],\n",
       "       [9.97988641e-01],\n",
       "       [9.14545238e-01],\n",
       "       [9.99535501e-01],\n",
       "       [2.41392329e-01],\n",
       "       [2.84504108e-02],\n",
       "       [1.58467424e-06],\n",
       "       [8.06457400e-02],\n",
       "       [2.09116526e-02],\n",
       "       [8.39039624e-01],\n",
       "       [9.97730434e-01],\n",
       "       [1.02542285e-02],\n",
       "       [4.63240594e-02],\n",
       "       [9.71944809e-01],\n",
       "       [9.82424617e-01],\n",
       "       [9.47834492e-01],\n",
       "       [1.71732483e-03],\n",
       "       [9.67263162e-01],\n",
       "       [9.04801905e-01],\n",
       "       [9.96182144e-01],\n",
       "       [9.78691220e-01],\n",
       "       [9.56002355e-01],\n",
       "       [8.98242950e-01],\n",
       "       [9.49669302e-01],\n",
       "       [7.96599030e-01],\n",
       "       [9.20355082e-01],\n",
       "       [4.90622193e-01],\n",
       "       [6.64892912e-01],\n",
       "       [1.57598257e-01],\n",
       "       [9.76943731e-01],\n",
       "       [9.76910949e-01],\n",
       "       [9.96937275e-01],\n",
       "       [9.97292399e-01],\n",
       "       [9.81427670e-01],\n",
       "       [9.92896080e-01],\n",
       "       [1.39494920e-02],\n",
       "       [3.28725181e-03],\n",
       "       [9.93440926e-01],\n",
       "       [7.55129158e-01],\n",
       "       [9.83553231e-01],\n",
       "       [7.12293317e-04],\n",
       "       [9.81966972e-01],\n",
       "       [5.27155280e-01],\n",
       "       [9.98470724e-01],\n",
       "       [9.45775449e-01],\n",
       "       [9.95510757e-01],\n",
       "       [9.78321910e-01],\n",
       "       [4.91376847e-01],\n",
       "       [2.11861380e-03],\n",
       "       [1.91039830e-01],\n",
       "       [9.95193541e-01],\n",
       "       [1.01857027e-02],\n",
       "       [9.80305076e-01],\n",
       "       [2.84175272e-04],\n",
       "       [9.51641619e-01],\n",
       "       [9.98480976e-01],\n",
       "       [9.77553487e-01],\n",
       "       [7.74887303e-05],\n",
       "       [9.89564955e-01],\n",
       "       [9.84571815e-01],\n",
       "       [9.94312584e-01],\n",
       "       [6.34203851e-01],\n",
       "       [8.97488952e-01],\n",
       "       [7.80772626e-01],\n",
       "       [9.80244875e-01],\n",
       "       [9.80918944e-01],\n",
       "       [9.95511770e-01],\n",
       "       [9.80336368e-01]], dtype=float32)"
      ]
     },
     "execution_count": 19,
     "metadata": {},
     "output_type": "execute_result"
    }
   ],
   "source": [
    "# make predictions\n",
    "p = model.predict(X_test)\n",
    "p"
   ]
  },
  {
   "cell_type": "code",
   "execution_count": 20,
   "id": "dc6624e0-7c79-4088-aa06-e285b8ff3e92",
   "metadata": {},
   "outputs": [
    {
     "data": {
      "text/plain": [
       "array([0., 0., 0., 0., 0., 1., 1., 0., 0., 1., 0., 1., 1., 1., 1., 1., 1.,\n",
       "       1., 0., 0., 0., 1., 0., 1., 0., 0., 1., 1., 1., 1., 0., 1., 0., 1.,\n",
       "       0., 1., 0., 0., 1., 1., 0., 0., 1., 0., 1., 0., 0., 1., 1., 0., 0.,\n",
       "       1., 0., 0., 1., 1., 1., 0., 0., 1., 1., 1., 1., 0., 1., 1., 0., 0.,\n",
       "       0., 1., 1., 0., 0., 1., 0., 1., 1., 1., 1., 1., 1., 0., 0., 1., 1.,\n",
       "       1., 1., 0., 1., 0., 1., 0., 1., 1., 1., 1., 1., 0., 1., 1., 0., 1.,\n",
       "       0., 1., 1., 1., 0., 1., 0., 1., 1., 1., 0., 1., 1., 0., 1., 0., 1.,\n",
       "       1., 1., 1., 1., 1., 0., 0., 0., 0., 0., 1., 1., 0., 0., 1., 1., 1.,\n",
       "       0., 1., 1., 1., 1., 1., 1., 1., 1., 1., 0., 1., 0., 1., 1., 1., 1.,\n",
       "       1., 1., 0., 0., 1., 1., 1., 0., 1., 1., 1., 1., 1., 1., 0., 0., 0.,\n",
       "       1., 0., 1., 0., 1., 1., 1., 0., 1., 1., 1., 1., 1., 1., 1., 1., 1.,\n",
       "       1.], dtype=float32)"
      ]
     },
     "execution_count": 20,
     "metadata": {},
     "output_type": "execute_result"
    }
   ],
   "source": [
    "# round to get the actual predictions\n",
    "# Note: has to be flattened since the targets are size(N,) while the predictions are size (N,1)\n",
    "p = np.round(p).flatten()\n",
    "p"
   ]
  },
  {
   "cell_type": "code",
   "execution_count": 21,
   "id": "15ee6a83-6a8c-4be5-8033-c388865cd983",
   "metadata": {},
   "outputs": [
    {
     "name": "stdout",
     "output_type": "stream",
     "text": [
      "Manually calculated accuracy: 0.9787234042553191\n",
      "6/6 [==============================] - 0s 3ms/step - loss: 0.0923 - accuracy: 0.9787\n",
      "Evaluate() output: [0.09232471138238907, 0.978723406791687]\n"
     ]
    }
   ],
   "source": [
    "# calculate the accuracy, compare it to evaluate() output\n",
    "print(f'Manually calculated accuracy: {np.mean(p == y_test)}')\n",
    "print(f'Evaluate() output: {model.evaluate(X_test, y_test)}')"
   ]
  },
  {
   "cell_type": "markdown",
   "id": "92ac4e84-9a2b-4365-bfec-681050ebb1b0",
   "metadata": {},
   "source": [
    "## Saving and Loading the Model:"
   ]
  },
  {
   "cell_type": "code",
   "execution_count": 22,
   "id": "fd7b179c-65bc-42b4-8e0a-398f052e204f",
   "metadata": {},
   "outputs": [],
   "source": [
    "# save the model to a file\n",
    "model.save('model_classification.keras')"
   ]
  },
  {
   "cell_type": "code",
   "execution_count": 23,
   "id": "c29123d3-5c82-4d80-aaa1-08da58956ddd",
   "metadata": {},
   "outputs": [
    {
     "name": "stdout",
     "output_type": "stream",
     "text": [
      "[<keras.src.layers.core.dense.Dense object at 0x0000028FCFBFED70>]\n"
     ]
    }
   ],
   "source": [
    "# load the model and confirm that it still works\n",
    "model = tf.keras.models.load_model('model_classification.keras')\n",
    "print(model.layers)"
   ]
  },
  {
   "cell_type": "code",
   "execution_count": 24,
   "id": "bf90b743-efb5-4b7b-bd56-0603df382109",
   "metadata": {},
   "outputs": [
    {
     "name": "stdout",
     "output_type": "stream",
     "text": [
      "6/6 [==============================] - 0s 2ms/step - loss: 0.0923 - accuracy: 0.9787\n"
     ]
    },
    {
     "data": {
      "text/plain": [
       "[0.09232471138238907, 0.978723406791687]"
      ]
     },
     "execution_count": 24,
     "metadata": {},
     "output_type": "execute_result"
    }
   ],
   "source": [
    "# verify the performance of the model\n",
    "model.evaluate(X_test, y_test)"
   ]
  }
 ],
 "metadata": {
  "kernelspec": {
   "display_name": "Python 3 (ipykernel)",
   "language": "python",
   "name": "python3"
  },
  "language_info": {
   "codemirror_mode": {
    "name": "ipython",
    "version": 3
   },
   "file_extension": ".py",
   "mimetype": "text/x-python",
   "name": "python",
   "nbconvert_exporter": "python",
   "pygments_lexer": "ipython3",
   "version": "3.10.0"
  }
 },
 "nbformat": 4,
 "nbformat_minor": 5
}
